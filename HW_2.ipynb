{
 "cells": [
  {
   "cell_type": "markdown",
   "id": "25b1f58c",
   "metadata": {},
   "source": [
    "<h1 align='center'>Линейная алгебра</h1>"
   ]
  },
  {
   "cell_type": "markdown",
   "id": "80b4ee62",
   "metadata": {},
   "source": [
    "<h1 align='center'>Домашнее задание № 2</h1>"
   ]
  },
  {
   "cell_type": "markdown",
   "id": "80680f47-3b5e-4d10-821a-69eea6637566",
   "metadata": {},
   "source": [
    "## Матрицы и матричные операции. Часть 1"
   ]
  },
  {
   "cell_type": "code",
   "execution_count": 11,
   "id": "3f5afd23-12eb-45b3-8ff6-3af48c861406",
   "metadata": {},
   "outputs": [],
   "source": [
    "import numpy as np"
   ]
  },
  {
   "cell_type": "markdown",
   "id": "c66eaa1e-e108-4e6f-a0be-35ceeaa5f0bd",
   "metadata": {},
   "source": [
    "# <p style=\"background-color:lightgreen;font-family:newtimeroman;color:#662e2e;font-size:130%;text-align:center;border-radius:30px 30px;\">Задача 1</p>\n",
    "\n",
    "__1.__ Установите, какие произведения матриц $AB$ и $BA$ определены, и найдите размерности полученных матриц:\n",
    "\n",
    "   а) $A$ — матрица $4\\times 2$, $B$ — матрица $4\\times 2$;\n",
    "    \n",
    "   б) $A$ — матрица $2\\times 5$, $B$ — матрица $5\\times 3$;\n",
    "    \n",
    "   в) $A$ — матрица $8\\times 3$, $B$ — матрица $3\\times 8$;\n",
    "    \n",
    "   г) $A$ — квадратная матрица $4\\times 4$, $B$ — квадратная матрица $4\\times 4$."
   ]
  },
  {
   "cell_type": "markdown",
   "id": "2ea0d98e",
   "metadata": {},
   "source": [
    "**Решение:**  "
   ]
  },
  {
   "cell_type": "markdown",
   "id": "b0294ff5-1820-487c-92fa-dae74e686d2c",
   "metadata": {},
   "source": [
    "__Матрицей__ размера $m\\times n$ называется прямоугольная таблица, состоящая из $m$ строк и $n$ столбцов.\n",
    "  \n",
    "__Условие перемножение матриц: важно, чтобы число столбцов матрицы $A$ было равно числу строк матрицы $B$.__  \n",
    "  \n",
    "Определить оба произведения $A\\cdot B$ и $B\\cdot A$ можно только тогда, когда число столбцов $A$ совпадает с числом строк $B$, а число строк $A$ — с числом столбцов $B$. В этом случае матрицы $A\\cdot B$ и $B\\cdot A$ будут квадратными. Их порядок в общем случае будет различным и совпадать только при квадратных матрицах $A$ и $B$."
   ]
  },
  {
   "cell_type": "markdown",
   "id": "e956cd2a-d5e6-41df-9422-922febd75393",
   "metadata": {},
   "source": [
    " а) $A$ — матрица $4\\times 2$, $B$ — матрица $4\\times 2$  \n",
    "$$A = \\begin{pmatrix}\n",
    "a_{11} & a_{12}\\\\\n",
    "a_{21} & a_{22}\\\\\n",
    "a_{31} & a_{32}\\\\\n",
    "a_{41} & a_{42}\\\\\n",
    "\\end{pmatrix}  \n",
    "B = \\begin{pmatrix}\n",
    "b_{11} & b_{12}\\\\\n",
    "b_{21} & b_{22}\\\\\n",
    "b_{31} & b_{32}\\\\\n",
    "b_{41} & b_{42}\\\\\n",
    "\\end{pmatrix}$$  \n",
    "В данном случае ни одно из произведений $A\\cdot B$ и $B\\cdot A$ определить невозможно, т.к. не выполняется условие перемножение матриц."
   ]
  },
  {
   "cell_type": "code",
   "execution_count": 2,
   "id": "1b154113-c5f8-4f43-8267-e45852aa217e",
   "metadata": {},
   "outputs": [
    {
     "name": "stdout",
     "output_type": "stream",
     "text": [
      "Матрица A\n",
      "[[2 6]\n",
      " [4 4]\n",
      " [0 9]\n",
      " [5 3]]\n",
      "Матрица B\n",
      "[[7 8]\n",
      " [7 1]\n",
      " [3 0]\n",
      " [8 4]]\n"
     ]
    }
   ],
   "source": [
    "A = np.random.randint(10, size=(4, 2))\n",
    "B = np.random.randint(10, size=(4, 2))\n",
    "\n",
    "print(f'Матрица A\\n{A}\\nМатрица B\\n{B}')"
   ]
  },
  {
   "cell_type": "code",
   "execution_count": 4,
   "id": "670abca1-bed6-43a1-a917-c614130a8a1a",
   "metadata": {},
   "outputs": [
    {
     "ename": "ValueError",
     "evalue": "shapes (4,2) and (4,2) not aligned: 2 (dim 1) != 4 (dim 0)",
     "output_type": "error",
     "traceback": [
      "\u001b[0;31m---------------------------------------------------------------------------\u001b[0m",
      "\u001b[0;31mValueError\u001b[0m                                Traceback (most recent call last)",
      "\u001b[0;32m/tmp/ipykernel_16601/637923119.py\u001b[0m in \u001b[0;36m<module>\u001b[0;34m\u001b[0m\n\u001b[0;32m----> 1\u001b[0;31m \u001b[0mprint\u001b[0m\u001b[0;34m(\u001b[0m\u001b[0;34mf'Произведение матриц AB равно:\\n {np.dot(A, B)}'\u001b[0m\u001b[0;34m)\u001b[0m\u001b[0;34m\u001b[0m\u001b[0;34m\u001b[0m\u001b[0m\n\u001b[0m",
      "\u001b[0;32m<__array_function__ internals>\u001b[0m in \u001b[0;36mdot\u001b[0;34m(*args, **kwargs)\u001b[0m\n",
      "\u001b[0;31mValueError\u001b[0m: shapes (4,2) and (4,2) not aligned: 2 (dim 1) != 4 (dim 0)"
     ]
    }
   ],
   "source": [
    "print(f'Произведение матриц AB равно:\\n {np.dot(A, B)}')"
   ]
  },
  {
   "cell_type": "code",
   "execution_count": 5,
   "id": "5198c82b-a996-4867-a406-55c0890a1772",
   "metadata": {},
   "outputs": [
    {
     "ename": "ValueError",
     "evalue": "shapes (4,2) and (4,2) not aligned: 2 (dim 1) != 4 (dim 0)",
     "output_type": "error",
     "traceback": [
      "\u001b[0;31m---------------------------------------------------------------------------\u001b[0m",
      "\u001b[0;31mValueError\u001b[0m                                Traceback (most recent call last)",
      "\u001b[0;32m/tmp/ipykernel_16601/866225785.py\u001b[0m in \u001b[0;36m<module>\u001b[0;34m\u001b[0m\n\u001b[0;32m----> 1\u001b[0;31m \u001b[0mprint\u001b[0m\u001b[0;34m(\u001b[0m\u001b[0;34mf'Произведение матриц BA равно:\\n {np.dot(B, A)}'\u001b[0m\u001b[0;34m)\u001b[0m\u001b[0;34m\u001b[0m\u001b[0;34m\u001b[0m\u001b[0m\n\u001b[0m",
      "\u001b[0;32m<__array_function__ internals>\u001b[0m in \u001b[0;36mdot\u001b[0;34m(*args, **kwargs)\u001b[0m\n",
      "\u001b[0;31mValueError\u001b[0m: shapes (4,2) and (4,2) not aligned: 2 (dim 1) != 4 (dim 0)"
     ]
    }
   ],
   "source": [
    "print(f'Произведение матриц BA равно:\\n {np.dot(B, A)}')"
   ]
  },
  {
   "cell_type": "markdown",
   "id": "698267ab-97eb-498c-a426-62f4278d1f2c",
   "metadata": {},
   "source": [
    "б) $A$ — матрица $2\\times 5$, $B$ — матрица $5\\times 3$  \n",
    "\n",
    "$$A = \\begin{pmatrix}\n",
    "a_{11} & a_{12} & a_{13} & a_{14} & a_{15}\\\\\n",
    "a_{21} & a_{22} & a_{23} & a_{24} & a_{25}\\\\\n",
    "\\end{pmatrix}  \n",
    "B = \\begin{pmatrix}\n",
    "b_{11} & b_{12} & b_{13}\\\\\n",
    "b_{21} & b_{22} & b_{23}\\\\\n",
    "b_{31} & b_{32} & b_{33}\\\\\n",
    "b_{41} & b_{42} & b_{43}\\\\\n",
    "b_{51} & b_{52} & b_{53}\\\\\n",
    "\\end{pmatrix}$$  \n",
    "В данном случае определено произведение $A\\cdot B$, т.к. при $B\\cdot A$ не выполняется условие перемножение матриц. Матрица $AB$ будет иметь размер 2Х3. "
   ]
  },
  {
   "cell_type": "code",
   "execution_count": 6,
   "id": "90313709-118f-4bb5-8ac6-77105c4dc88e",
   "metadata": {},
   "outputs": [
    {
     "name": "stdout",
     "output_type": "stream",
     "text": [
      "Матрица A\n",
      "[[5 6 6 9 1]\n",
      " [4 5 9 9 0]]\n",
      "Матрица B\n",
      "[[8 6 0]\n",
      " [2 8 4]\n",
      " [6 8 1]\n",
      " [1 2 2]\n",
      " [0 5 0]]\n"
     ]
    }
   ],
   "source": [
    "A = np.random.randint(10, size=(2, 5))\n",
    "B = np.random.randint(10, size=(5, 3))\n",
    "\n",
    "print(f'Матрица A\\n{A}\\nМатрица B\\n{B}')"
   ]
  },
  {
   "cell_type": "code",
   "execution_count": 7,
   "id": "387f2a0c-2ff5-488a-9a6f-e57feb1472ce",
   "metadata": {},
   "outputs": [
    {
     "name": "stdout",
     "output_type": "stream",
     "text": [
      "Произведение матриц AB равно:\n",
      " [[ 97 149  48]\n",
      " [105 154  47]]\n"
     ]
    }
   ],
   "source": [
    "print(f'Произведение матриц AB равно:\\n {np.dot(A, B)}')"
   ]
  },
  {
   "cell_type": "code",
   "execution_count": 8,
   "id": "724ccb32-ddf5-4fba-a2a0-8f359f62e97c",
   "metadata": {},
   "outputs": [
    {
     "ename": "ValueError",
     "evalue": "shapes (5,3) and (2,5) not aligned: 3 (dim 1) != 2 (dim 0)",
     "output_type": "error",
     "traceback": [
      "\u001b[0;31m---------------------------------------------------------------------------\u001b[0m",
      "\u001b[0;31mValueError\u001b[0m                                Traceback (most recent call last)",
      "\u001b[0;32m/tmp/ipykernel_16601/866225785.py\u001b[0m in \u001b[0;36m<module>\u001b[0;34m\u001b[0m\n\u001b[0;32m----> 1\u001b[0;31m \u001b[0mprint\u001b[0m\u001b[0;34m(\u001b[0m\u001b[0;34mf'Произведение матриц BA равно:\\n {np.dot(B, A)}'\u001b[0m\u001b[0;34m)\u001b[0m\u001b[0;34m\u001b[0m\u001b[0;34m\u001b[0m\u001b[0m\n\u001b[0m",
      "\u001b[0;32m<__array_function__ internals>\u001b[0m in \u001b[0;36mdot\u001b[0;34m(*args, **kwargs)\u001b[0m\n",
      "\u001b[0;31mValueError\u001b[0m: shapes (5,3) and (2,5) not aligned: 3 (dim 1) != 2 (dim 0)"
     ]
    }
   ],
   "source": [
    "print(f'Произведение матриц BA равно:\\n {np.dot(B, A)}')"
   ]
  },
  {
   "cell_type": "markdown",
   "id": "92ae02d6-3936-4737-910b-ca3f2f88f953",
   "metadata": {},
   "source": [
    "в) $A$ — матрица $8\\times 3$, $B$ — матрица $3\\times 8$  \n",
    "\n",
    "$$A = \\begin{pmatrix}\n",
    "a_{11} & a_{12} & a_{13}\\\\\n",
    "a_{21} & a_{22} & a_{23}\\\\\n",
    "a_{31} & a_{32} & a_{33}\\\\\n",
    "a_{41} & a_{42} & a_{43}\\\\\n",
    "a_{51} & a_{52} & a_{53}\\\\\n",
    "a_{61} & a_{62} & a_{63}\\\\\n",
    "a_{71} & a_{72} & a_{73}\\\\\n",
    "a_{81} & a_{82} & a_{83}\\\\\n",
    "\\end{pmatrix}  \n",
    "B = \\begin{pmatrix}\n",
    "b_{11} & b_{12} & b_{13} b_{14} & b_{15} & b_{16} & b_{17} & b_{18}\\\\\n",
    "b_{21} & b_{22} & b_{23} b_{24} & b_{25} & b_{26} & b_{27} & b_{28}\\\\\n",
    "b_{31} & b_{32} & b_{33} b_{34} & b_{35} & b_{36} & b_{37} & b_{38}\\\\\n",
    "\\end{pmatrix}$$    \n",
    "\n",
    "В данном случае определены оба произведения $AB$ и $BA$. Матрица $AB$ будет иметь размер 8Х8, а $BA$ - 3Х3. "
   ]
  },
  {
   "cell_type": "code",
   "execution_count": 9,
   "id": "65426328-30e4-4b8d-9c45-f96112960d46",
   "metadata": {},
   "outputs": [
    {
     "name": "stdout",
     "output_type": "stream",
     "text": [
      "Матрица A\n",
      "[[0 8 5]\n",
      " [8 8 0]\n",
      " [1 3 5]\n",
      " [7 2 4]\n",
      " [5 0 8]\n",
      " [9 3 3]\n",
      " [1 2 8]\n",
      " [3 1 4]]\n",
      "Матрица B\n",
      "[[7 1 1 2 8 6 0 2]\n",
      " [3 4 6 2 1 0 8 3]\n",
      " [5 5 8 9 5 6 1 8]]\n"
     ]
    }
   ],
   "source": [
    "A = np.random.randint(10, size=(8, 3))\n",
    "B = np.random.randint(10, size=(3, 8))\n",
    "\n",
    "print(f'Матрица A\\n{A}\\nМатрица B\\n{B}')"
   ]
  },
  {
   "cell_type": "code",
   "execution_count": 10,
   "id": "324fe5f2-61a5-43bf-96f8-12d67310b3de",
   "metadata": {},
   "outputs": [
    {
     "name": "stdout",
     "output_type": "stream",
     "text": [
      "Произведение матриц AB равно:\n",
      " [[49 57 88 61 33 30 69 64]\n",
      " [80 40 56 32 72 48 64 40]\n",
      " [41 38 59 53 36 36 29 51]\n",
      " [75 35 51 54 78 66 20 52]\n",
      " [75 45 69 82 80 78  8 74]\n",
      " [87 36 51 51 90 72 27 51]\n",
      " [53 49 77 78 50 54 24 72]\n",
      " [44 27 41 44 45 42 12 41]]\n"
     ]
    }
   ],
   "source": [
    "print(f'Произведение матриц AB равно:\\n {np.dot(A, B)}')"
   ]
  },
  {
   "cell_type": "code",
   "execution_count": 11,
   "id": "4f6004ad-ff9f-4acb-8b2f-1f1dee19a1ca",
   "metadata": {
    "tags": []
   },
   "outputs": [
    {
     "name": "stdout",
     "output_type": "stream",
     "text": [
      "Произведение матриц BA равно:\n",
      " [[123  91 138]\n",
      " [ 74  97 137]\n",
      " [215 150 199]]\n"
     ]
    }
   ],
   "source": [
    "print(f'Произведение матриц BA равно:\\n {np.dot(B, A)}')"
   ]
  },
  {
   "cell_type": "markdown",
   "id": "c54f833c-3ec0-4853-97ed-6be7d962c18c",
   "metadata": {},
   "source": [
    "г) $A$ — квадратная матрица $4\\times 4$, $B$ — квадратная матрица $4\\times 4$\n",
    "\n",
    "$$A = \\begin{pmatrix}\n",
    "a_{11} & a_{12} & a_{13} & a_{14}\\\\\n",
    "a_{21} & a_{22} & a_{23} & a_{24}\\\\\n",
    "a_{31} & a_{32} & a_{33} & a_{34}\\\\\n",
    "a_{41} & a_{42} & a_{43} & a_{44}\\\\\n",
    "\\end{pmatrix}  \n",
    "B = \\begin{pmatrix}\n",
    "b_{11} & b_{12} & b_{13} & b_{14}\\\\\n",
    "b_{21} & b_{22} & b_{23} & b_{24}\\\\\n",
    "b_{31} & b_{32} & b_{33} & b_{34}\\\\\n",
    "b_{41} & b_{42} & b_{43} & b_{44}\\\\\n",
    "\\end{pmatrix}$$    \n",
    "\n",
    "В данном случае определены оба произведения $AB$ и $BA$. Матрица $AB$ будет иметь размер 4Х4, и $BA$ также 4Х4. "
   ]
  },
  {
   "cell_type": "code",
   "execution_count": 12,
   "id": "ab8c49dc-78e1-43e5-8b70-afbea2a11174",
   "metadata": {},
   "outputs": [
    {
     "name": "stdout",
     "output_type": "stream",
     "text": [
      "Матрица A\n",
      "[[4 4 9 1]\n",
      " [0 1 1 6]\n",
      " [7 7 4 8]\n",
      " [7 2 8 8]]\n",
      "Матрица B\n",
      "[[4 2 9 0]\n",
      " [4 1 8 1]\n",
      " [0 3 7 5]\n",
      " [2 6 5 4]]\n"
     ]
    }
   ],
   "source": [
    "A = np.random.randint(10, size=(4, 4))\n",
    "B = np.random.randint(10, size=(4, 4))\n",
    "\n",
    "print(f'Матрица A\\n{A}\\nМатрица B\\n{B}')"
   ]
  },
  {
   "cell_type": "code",
   "execution_count": 13,
   "id": "d9d6e23b-4976-4458-aea1-326cc9a971f0",
   "metadata": {},
   "outputs": [
    {
     "name": "stdout",
     "output_type": "stream",
     "text": [
      "Произведение матриц AB равно:\n",
      " [[ 34  45 136  53]\n",
      " [ 16  40  45  30]\n",
      " [ 72  81 187  59]\n",
      " [ 52  88 175  74]]\n"
     ]
    }
   ],
   "source": [
    "print(f'Произведение матриц AB равно:\\n {np.dot(A, B)}')"
   ]
  },
  {
   "cell_type": "code",
   "execution_count": 14,
   "id": "b5639e2c-8aed-4da9-ab6f-ef321c7e04bb",
   "metadata": {
    "tags": []
   },
   "outputs": [
    {
     "name": "stdout",
     "output_type": "stream",
     "text": [
      "Произведение матриц BA равно:\n",
      " [[ 79  81  74  88]\n",
      " [ 79  75  77  82]\n",
      " [ 84  62  71 114]\n",
      " [ 71  57  76 110]]\n"
     ]
    }
   ],
   "source": [
    "print(f'Произведение матриц BA равно:\\n {np.dot(B, A)}')"
   ]
  },
  {
   "cell_type": "markdown",
   "id": "de4912a3-ae24-4874-a078-0b3fdc2ea43b",
   "metadata": {},
   "source": [
    "# <p style=\"background-color:lightgreen;font-family:newtimeroman;color:#662e2e;font-size:130%;text-align:center;border-radius:30px 30px;\">Задача 2</p>\n",
    "\n",
    "__2.__ Найдите сумму и произведение матриц $A=\\begin{pmatrix}\n",
    "1 & -2\\\\ \n",
    "3 & 0\n",
    "\\end{pmatrix}$ и $B=\\begin{pmatrix}\n",
    "4 & -1\\\\ \n",
    "0 & 5\n",
    "\\end{pmatrix}.$"
   ]
  },
  {
   "cell_type": "markdown",
   "id": "bcf3755d-f827-484f-b455-79fbd204b912",
   "metadata": {},
   "source": [
    "**Решение:**  "
   ]
  },
  {
   "cell_type": "markdown",
   "id": "16cc57eb-acd1-4429-995d-bef45bc431d0",
   "metadata": {},
   "source": [
    "$$A + B = \n",
    "\\begin{pmatrix}\n",
    "1 & -2\\\\\n",
    "3 & 0\\\\\n",
    "\\end{pmatrix} + \\begin{pmatrix}\n",
    "4 & -1\\\\\n",
    "0 & 5\\\\\n",
    "\\end{pmatrix} = \\begin{pmatrix}\n",
    "1 + 4 & (-2) + (-1)\\\\\n",
    "3 + 0 & 0 + 5\\\\\n",
    "\\end{pmatrix}\n",
    "= \\begin{pmatrix}\n",
    "5 & -3\\\\\n",
    "3 & 5\\\\\n",
    "\\end{pmatrix}.$$  \n",
    "\n",
    "$$A \\cdot B = \n",
    "\\begin{pmatrix}\n",
    "1 & -2\\\\\n",
    "3 & 0\\\\\n",
    "\\end{pmatrix} \\cdot \\begin{pmatrix}\n",
    "4 & -1\\\\\n",
    "0 & 5\\\\\n",
    "\\end{pmatrix} = \\begin{pmatrix}\n",
    "(1\\cdot4 + (-2)\\cdot0) & (1\\cdot(-1) + (-2)\\cdot5)\\\\ \n",
    "(3\\cdot4 + 0\\cdot0) & (3\\cdot(-1) + 0\\cdot5)\n",
    "\\end{pmatrix}\n",
    "= \\begin{pmatrix}\n",
    "4 & -11\\\\\n",
    "12 & -3\\\\\n",
    "\\end{pmatrix}.$$  "
   ]
  },
  {
   "cell_type": "code",
   "execution_count": 15,
   "id": "5eb52683-47ac-49a0-8268-c7a2b3085160",
   "metadata": {},
   "outputs": [
    {
     "name": "stdout",
     "output_type": "stream",
     "text": [
      "Матрица A\n",
      "[[ 1 -2]\n",
      " [ 3  0]]\n",
      "Матрица B\n",
      "[[ 4 -1]\n",
      " [ 0  5]]\n"
     ]
    }
   ],
   "source": [
    "A = np.array([[1, -2], [3, 0]])\n",
    "B = np.array([[4, -1], [0, 5]])\n",
    "\n",
    "print(f'Матрица A\\n{A}\\nМатрица B\\n{B}')"
   ]
  },
  {
   "cell_type": "code",
   "execution_count": 16,
   "id": "661b0d70-8a0f-44eb-b0ff-e071683cd235",
   "metadata": {},
   "outputs": [
    {
     "name": "stdout",
     "output_type": "stream",
     "text": [
      "Сумма матриц A + B равна:\n",
      " [[ 5 -3]\n",
      " [ 3  5]]\n"
     ]
    }
   ],
   "source": [
    "print(f'Сумма матриц A + B равна:\\n {A + B}')"
   ]
  },
  {
   "cell_type": "code",
   "execution_count": 17,
   "id": "507b77ca-7ef4-4e91-b52b-cab766caa4f7",
   "metadata": {},
   "outputs": [
    {
     "name": "stdout",
     "output_type": "stream",
     "text": [
      "Произведение матриц AB равно:\n",
      " [[  4 -11]\n",
      " [ 12  -3]]\n"
     ]
    }
   ],
   "source": [
    "print(f'Произведение матриц AB равно:\\n {np.dot(A, B)}')"
   ]
  },
  {
   "cell_type": "markdown",
   "id": "2f5b0a08-2d16-409e-961f-d160267b35f6",
   "metadata": {},
   "source": [
    "# <p style=\"background-color:lightgreen;font-family:newtimeroman;color:#662e2e;font-size:130%;text-align:center;border-radius:30px 30px;\">Задача 3</p>\n",
    "\n",
    "__3.__ Из закономерностей сложения и умножения матриц на число можно сделать вывод, что матрицы одного размера образуют линейное пространство. Вычислите линейную комбинацию $3A-2B+4C$ для матриц $A=\\begin{pmatrix}\n",
    "1 & 7\\\\ \n",
    "3 & -6\n",
    "\\end{pmatrix}$, $B=\\begin{pmatrix}\n",
    "0 & 5\\\\ \n",
    "2 & -1\n",
    "\\end{pmatrix}$, $C=\\begin{pmatrix}\n",
    "2 & -4\\\\ \n",
    "1 & 1\n",
    "\\end{pmatrix}.$"
   ]
  },
  {
   "cell_type": "markdown",
   "id": "271efec1-8914-4435-9f68-3cc4bb676248",
   "metadata": {},
   "source": [
    "**Решение:**  "
   ]
  },
  {
   "cell_type": "markdown",
   "id": "f7e5fdaf-adeb-4535-8547-04614fdf65d7",
   "metadata": {},
   "source": [
    "$$D = 3A-2B+4C = 3\\cdot\\begin{pmatrix}\n",
    "1 & 7\\\\ \n",
    "3 & -6\n",
    "\\end{pmatrix} - 2\\cdot\\begin{pmatrix}\n",
    "0 & 5\\\\ \n",
    "2 & -1\n",
    "\\end{pmatrix} + 4\\cdot\\begin{pmatrix}\n",
    "2 & -4\\\\ \n",
    "1 & 1\n",
    "\\end{pmatrix} = \\begin{pmatrix}\n",
    "3 & 21\\\\ \n",
    "9 & -18\n",
    "\\end{pmatrix} - \\begin{pmatrix}\n",
    "0 & 10\\\\ \n",
    "4 & -2\n",
    "\\end{pmatrix} + \\begin{pmatrix}\n",
    "8 & -16\\\\ \n",
    "4 & 4\n",
    "\\end{pmatrix} = \\begin{pmatrix}\n",
    "3-0+8 & 21-10-16\\\\ \n",
    "9-4+4 & -18+2+4\n",
    "\\end{pmatrix} = \\begin{pmatrix}\n",
    "11 & -5\\\\ \n",
    "9 & -12\n",
    "\\end{pmatrix}$$"
   ]
  },
  {
   "cell_type": "code",
   "execution_count": 18,
   "id": "69d720cf-718e-40bd-be28-88c525c5f2f0",
   "metadata": {},
   "outputs": [
    {
     "name": "stdout",
     "output_type": "stream",
     "text": [
      "Матрица A\n",
      "[[ 1  7]\n",
      " [ 3 -6]]\n",
      "Матрица B\n",
      "[[ 0  5]\n",
      " [ 2 -1]]\n",
      "атрица C\n",
      "[[ 2 -4]\n",
      " [ 1  1]]\n"
     ]
    }
   ],
   "source": [
    "A = np.array([[1, 7], [3, -6]])\n",
    "B = np.array([[0, 5], [2, -1]])\n",
    "C = np.array([[2, -4], [1, 1]])\n",
    "\n",
    "print(f'Матрица A\\n{A}\\nМатрица B\\n{B}\\nатрица C\\n{C}')"
   ]
  },
  {
   "cell_type": "code",
   "execution_count": 19,
   "id": "8f4c6185-9074-478f-98f4-01e1b4c6b376",
   "metadata": {},
   "outputs": [
    {
     "name": "stdout",
     "output_type": "stream",
     "text": [
      "Матрица D = 3A-2B+4C равна\n",
      "[[ 11  -5]\n",
      " [  9 -12]]\n"
     ]
    }
   ],
   "source": [
    "D = 3*A - 2*B + 4*C\n",
    "\n",
    "print(f'Матрица D = 3A-2B+4C равна\\n{D}')"
   ]
  },
  {
   "cell_type": "markdown",
   "id": "b4c33ddb-a97d-4edb-a274-b31be9450089",
   "metadata": {},
   "source": [
    "# <p style=\"background-color:lightgreen;font-family:newtimeroman;color:#662e2e;font-size:130%;text-align:center;border-radius:30px 30px;\">Задача 4</p>\n",
    "\n",
    "__4.__ Дана матрица $A=\\begin{pmatrix}\n",
    "4 & 1\\\\ \n",
    "5 & -2\\\\ \n",
    "2 & 3\n",
    "\\end{pmatrix}$.\n",
    "Вычислите $AA^{T}$ и $A^{T}A$."
   ]
  },
  {
   "cell_type": "markdown",
   "id": "d9ae8aa8-b040-455d-a06f-e552ea61a544",
   "metadata": {},
   "source": [
    "**Решение:**  "
   ]
  },
  {
   "cell_type": "markdown",
   "id": "35046b56-f66c-4da3-ad76-8fef914f41e4",
   "metadata": {},
   "source": [
    "Транспонированная матрица — это матрица, отражённая относительно главной диагонали, на которой располагаются элементы с $i=j$. При транспонировании строки исходной матрицы становятся столбцами, а столбцы — строками."
   ]
  },
  {
   "cell_type": "markdown",
   "id": "130ccf19-f5ca-4661-99bc-b3308b9c4abe",
   "metadata": {},
   "source": [
    "$$A=\\begin{pmatrix}\n",
    "4 & 1\\\\ \n",
    "5 & -2\\\\ \n",
    "2 & 3\n",
    "\\end{pmatrix}, \\;A^{T}=\\begin{pmatrix}\n",
    "4 & 5 & 2\\\\ \n",
    "1 & -2 & 3\n",
    "\\end{pmatrix}.$$"
   ]
  },
  {
   "cell_type": "code",
   "execution_count": 20,
   "id": "e113d0df-11bd-4a90-b0c1-c26f28d1da1a",
   "metadata": {},
   "outputs": [
    {
     "name": "stdout",
     "output_type": "stream",
     "text": [
      "Матрица A\n",
      "[[ 4  1]\n",
      " [ 5 -2]\n",
      " [ 2  3]]\n"
     ]
    }
   ],
   "source": [
    "A = np.array([[4, 1], [5, -2], [2, 3]])\n",
    "\n",
    "print(f'Матрица A\\n{A}')"
   ]
  },
  {
   "cell_type": "code",
   "execution_count": 21,
   "id": "d271cc9a-802a-47ee-9786-d0ab969eefed",
   "metadata": {},
   "outputs": [
    {
     "name": "stdout",
     "output_type": "stream",
     "text": [
      "Транспонированная матрица A^t равна:\n",
      " [[ 4  5  2]\n",
      " [ 1 -2  3]]\n"
     ]
    }
   ],
   "source": [
    "A_t = A.T\n",
    "\n",
    "print(f'Транспонированная матрица A^t равна:\\n {A_t}')"
   ]
  },
  {
   "cell_type": "code",
   "execution_count": 22,
   "id": "acab3de4-2de1-404b-9369-d343dbbebf94",
   "metadata": {},
   "outputs": [
    {
     "name": "stdout",
     "output_type": "stream",
     "text": [
      "Произведение матриц AA^t равно:\n",
      " [[17 18 11]\n",
      " [18 29  4]\n",
      " [11  4 13]]\n"
     ]
    }
   ],
   "source": [
    "print(f'Произведение матриц AA^t равно:\\n {np.dot(A, A_t)}')"
   ]
  },
  {
   "cell_type": "code",
   "execution_count": 23,
   "id": "15644457-a2ab-4131-b39a-a9b375171fac",
   "metadata": {},
   "outputs": [
    {
     "name": "stdout",
     "output_type": "stream",
     "text": [
      "Произведение матриц A^tA равно:\n",
      " [[45  0]\n",
      " [ 0 14]]\n"
     ]
    }
   ],
   "source": [
    "print(f'Произведение матриц A^tA равно:\\n {np.dot(A_t, A)}')"
   ]
  },
  {
   "cell_type": "markdown",
   "id": "a91c97ce-c7d9-459c-8896-1f5620309365",
   "metadata": {},
   "source": [
    "# <p style=\"background-color:lightgreen;font-family:newtimeroman;color:#662e2e;font-size:130%;text-align:center;border-radius:30px 30px;\">Задача 5</p>\n",
    "\n",
    "__5*.__ Напишите на Python функцию для перемножения двух произвольных матриц, не используя NumPy."
   ]
  },
  {
   "cell_type": "markdown",
   "id": "1044ee47-7b97-4b5a-b1eb-1fb461ed992a",
   "metadata": {},
   "source": [
    "**Решение:**  "
   ]
  },
  {
   "cell_type": "code",
   "execution_count": 33,
   "id": "24ba13eb-5777-4e96-96db-3ae51941c62d",
   "metadata": {},
   "outputs": [],
   "source": [
    "a = [[1, 2, 3], [4, 5, 6], [7, 8, 9]]\n",
    "b = [[9, 8, 7], [6, 5, 4], [3, 2, 1]]"
   ]
  },
  {
   "cell_type": "code",
   "execution_count": 34,
   "id": "4064c554-dff8-4166-b7f6-bba7596be899",
   "metadata": {},
   "outputs": [],
   "source": [
    "def dot_matrix(a, b):\n",
    "    try: #  если размер матриц соответствует условиям умножения, то работаем. Иначе выводим сообщение об ошибке \n",
    "        result_matrix = [[0 for _ in range(len(a))] for _ in range(len(b[0]))] #  создаем новую матрицу необходимого размера \n",
    "        for i in range(len(a)):\n",
    "            for j in range(len(a[0])):\n",
    "                for k in range(len(b[0])):\n",
    "                    result_matrix[i][k] = a[i][j] * b[j][k] + result_matrix[i][k]  #  заполнение итоговой матрицы\n",
    "        print(*result_matrix, sep='\\n') #  вывод на печать столбиком\n",
    "                 \n",
    "    except IndexError:\n",
    "        print('Условие перемножения матриц AxB: число столбцов матрицы A должно быть равно числу строк матрицы B')\n",
    "     "
   ]
  },
  {
   "cell_type": "code",
   "execution_count": 35,
   "id": "cfcd4022-87d8-44cf-979a-f2b20ff7e02d",
   "metadata": {},
   "outputs": [
    {
     "name": "stdout",
     "output_type": "stream",
     "text": [
      "[30, 24, 18]\n",
      "[84, 69, 54]\n",
      "[138, 114, 90]\n"
     ]
    }
   ],
   "source": [
    "dot_matrix(a, b)"
   ]
  },
  {
   "cell_type": "code",
   "execution_count": 36,
   "id": "8d8a64ad-7edf-4a7e-ab94-a5e6dc229755",
   "metadata": {},
   "outputs": [
    {
     "data": {
      "text/plain": [
       "array([[ 30,  24,  18],\n",
       "       [ 84,  69,  54],\n",
       "       [138, 114,  90]])"
      ]
     },
     "execution_count": 36,
     "metadata": {},
     "output_type": "execute_result"
    }
   ],
   "source": [
    "# проверка\n",
    "AB = np.dot(a, b)\n",
    "AB"
   ]
  },
  {
   "cell_type": "markdown",
   "id": "f0bddda0-39f1-47e0-bebf-4ddf5bb349d9",
   "metadata": {},
   "source": [
    "## Матрицы и матричные операции. Часть 2"
   ]
  },
  {
   "cell_type": "markdown",
   "id": "7b2ef28d-686d-496e-bba1-e6358cfba30a",
   "metadata": {
    "tags": []
   },
   "source": [
    "# <p style=\"background-color:lightgreen;font-family:newtimeroman;color:#662e2e;font-size:130%;text-align:center;border-radius:30px 30px;\">Задача 1</p>\n",
    "\n",
    "__1.__ Вычислите определитель:\n",
    "\n",
    "   a)\n",
    "\n",
    "$$\\begin{vmatrix}\n",
    "sinx & -cosx\\\\ \n",
    "cosx & sinx\n",
    "\\end{vmatrix};$$\n",
    "\n",
    "   б)\n",
    "    \n",
    "$$\\begin{vmatrix}\n",
    "4 & 2 & 3\\\\ \n",
    "0 & 5 & 1\\\\ \n",
    "0 & 0 & 9\n",
    "\\end{vmatrix};$$\n",
    "    \n",
    "   в)\n",
    "\n",
    "$$\\begin{vmatrix}\n",
    "1 & 2 & 3\\\\ \n",
    "4 & 5 & 6\\\\ \n",
    "7 & 8 & 9\n",
    "\\end{vmatrix}.$$\n"
   ]
  },
  {
   "cell_type": "code",
   "execution_count": 28,
   "id": "563da3dc-8c01-4378-8387-5490baf6b833",
   "metadata": {},
   "outputs": [],
   "source": [
    "import numpy as np\n",
    "import math"
   ]
  },
  {
   "cell_type": "markdown",
   "id": "0e42e9ac-6744-4c29-81d4-2e9866388860",
   "metadata": {},
   "source": [
    "**Решение:**  "
   ]
  },
  {
   "cell_type": "markdown",
   "id": "e25688cc-f066-4a1f-b536-d7613dcd05e1",
   "metadata": {},
   "source": [
    "   a)\n",
    "\n",
    "$$\\begin{vmatrix}\n",
    "sinx & -cosx\\\\ \n",
    "cosx & sinx\n",
    "\\end{vmatrix} = sinxsinx + cosxcosx = sinx^2 + cosx^2 = 1 $$"
   ]
  },
  {
   "cell_type": "markdown",
   "id": "877c208b-52a4-4004-83be-f7f8c01d705a",
   "metadata": {},
   "source": [
    "   б)\n",
    "    \n",
    "$$\\begin{vmatrix}\n",
    "4 & 2 & 3\\\\ \n",
    "0 & 5 & 1\\\\ \n",
    "0 & 0 & 9\n",
    "\\end{vmatrix} = 4 \\cdot 5 \\cdot 9 = 180$$"
   ]
  },
  {
   "cell_type": "code",
   "execution_count": 29,
   "id": "67c2e089-9b54-4df9-860c-2d663bc73a32",
   "metadata": {},
   "outputs": [
    {
     "name": "stdout",
     "output_type": "stream",
     "text": [
      "Матрица:\n",
      "[[4 2 3]\n",
      " [0 5 1]\n",
      " [0 0 9]]\n",
      "Оперделитель матрицы b: 180\n"
     ]
    }
   ],
   "source": [
    "#b\n",
    "\n",
    "b = np.array([[4, 2, 3], [0, 5, 1], [0, 0, 9]])\n",
    "print(f'Матрица:\\n{b}')\n",
    "print(f'Оперделитель матрицы b: {np.linalg.det(b):.0f}')"
   ]
  },
  {
   "cell_type": "markdown",
   "id": "8ea217cc-09fc-4b56-a696-500ec3b29dd6",
   "metadata": {},
   "source": [
    "   в)\n",
    "\n",
    "$$\\begin{vmatrix}\n",
    "1 & 2 & 3\\\\ \n",
    "4 & 5 & 6\\\\ \n",
    "7 & 8 & 9\n",
    "\\end{vmatrix} = \\begin{vmatrix}\n",
    "1 & 2 & 3\\\\ \n",
    "0 & -3 & -6\\\\ \n",
    "0 & -6 & -12\n",
    "\\end{vmatrix} = \\begin{vmatrix}\n",
    "1 & 2 & 3\\\\ \n",
    "0 & -3 & -6\\\\ \n",
    "0 & 0 & 0\n",
    "\\end{vmatrix} = 0$$"
   ]
  },
  {
   "cell_type": "code",
   "execution_count": 30,
   "id": "86e9a0ef-b998-450a-9963-7989695dc69e",
   "metadata": {},
   "outputs": [
    {
     "name": "stdout",
     "output_type": "stream",
     "text": [
      "Матрица:\n",
      "[[1 2 3]\n",
      " [4 5 6]\n",
      " [7 8 9]]\n",
      "Оперделитель матрицы с: -0\n"
     ]
    }
   ],
   "source": [
    "#в\n",
    "\n",
    "с = np.array([[1, 2, 3], [4, 5, 6], [7, 8, 9]])\n",
    "print(f'Матрица:\\n{с}')\n",
    "print(f'Оперделитель матрицы с: {np.linalg.det(с):.0f}')"
   ]
  },
  {
   "cell_type": "markdown",
   "id": "912a0929-02a1-464b-801f-d77a92d31a21",
   "metadata": {},
   "source": [
    "# <p style=\"background-color:lightgreen;font-family:newtimeroman;color:#662e2e;font-size:130%;text-align:center;border-radius:30px 30px;\">Задача 2</p>\n",
    "\n",
    "__2.__ Определитель матрицы $A$ равен $4$. Найдите:\n",
    "\n",
    "   а) $det(A^{2})$;\n",
    "    \n",
    "   б) $det(A^{T})$;\n",
    "    \n",
    "   в) $det(2A)$."
   ]
  },
  {
   "cell_type": "markdown",
   "id": "dc547d10-f64e-4daf-aaaf-713839bd28f6",
   "metadata": {},
   "source": [
    "**Решение:**  "
   ]
  },
  {
   "cell_type": "markdown",
   "id": "83a1b3ea-a0a8-4f76-9a76-a04d21e37824",
   "metadata": {},
   "source": [
    "  а) $det(A^{2}) = det(A) \\cdot det(A) = 4 \\cdot 4 = 16$;\n",
    "    \n",
    "   б) $det(A^{T}) = det(A) = 4$;\n",
    "    \n",
    "   в) $det(2A) = 2^{n} \\cdot det(A) = 2^{n} \\cdot 4$, где n - размер матрицы."
   ]
  },
  {
   "cell_type": "markdown",
   "id": "88b2b626-5158-4f0c-b40a-3a966454bd6c",
   "metadata": {
    "tags": []
   },
   "source": [
    "# <p style=\"background-color:lightgreen;font-family:newtimeroman;color:#662e2e;font-size:130%;text-align:center;border-radius:30px 30px;\">Задача 3</p>\n",
    "\n",
    "__3.__  Докажите, что матрица:\n",
    "\n",
    "$$\\begin{pmatrix}\n",
    "-2 & 7 & -3\\\\ \n",
    "4 & -14 & 6\\\\ \n",
    "-3 & 7 & 13\n",
    "\\end{pmatrix}$$\n",
    "   \n",
    "вырожденная."
   ]
  },
  {
   "cell_type": "markdown",
   "id": "3d6af0ab-f731-4da4-85a9-1c859135fe0b",
   "metadata": {},
   "source": [
    "**Решение:**  "
   ]
  },
  {
   "cell_type": "markdown",
   "id": "62301a21-63d0-4047-ae81-923c7a8b6271",
   "metadata": {},
   "source": [
    "Матрица называется _сингулярной_ или _вырожденной_, если её определитель равен нулю."
   ]
  },
  {
   "cell_type": "markdown",
   "id": "a5fc8539-9b98-474f-b4db-099c32cd9631",
   "metadata": {},
   "source": [
    "$$\\begin{pmatrix}\n",
    "-2 & 7 & -3\\\\ \n",
    "4 & -14 & 6\\\\ \n",
    "-3 & 7 & 13\n",
    "\\end{pmatrix}$$  \n",
    "\n",
    "Сложем первую строку матрицы, умноженную на 2, со второй:  \n",
    "\n",
    "$$\\begin{pmatrix}\n",
    "-2 & 7 & -3\\\\ \n",
    "0 & 0 & 0\\\\ \n",
    "-3 & 7 & 13\n",
    "\\end{pmatrix}$$  \n",
    "\n",
    "В соответствии со свойствами определителя, если матрица имеет нулевую строку или столбец, то определитель равен нулю.  \n",
    "Следовательно,  \n",
    "$$\\begin{vmatrix}\n",
    "-2 & 7 & -3\\\\ \n",
    "0 & 0 & 0\\\\ \n",
    "-3 & 7 & 13\n",
    "\\end{vmatrix} = 0$$  \n",
    "\n",
    "Соответственно, матрица является вырожденной."
   ]
  },
  {
   "cell_type": "code",
   "execution_count": 31,
   "id": "87fc2d28-55f5-4a53-84fb-606de2fcbb8d",
   "metadata": {},
   "outputs": [
    {
     "name": "stdout",
     "output_type": "stream",
     "text": [
      "Матрица:\n",
      "[[ -2   7  -3]\n",
      " [  4 -14   6]\n",
      " [ -3   7  13]]\n",
      "Определитель матрицы равен 0, следовательно матрица является вырожденной\n"
     ]
    }
   ],
   "source": [
    "a = np.array([[-2, 7, -3], [4, -14, 6], [-3, 7, 13]])\n",
    "print(f'Матрица:\\n{a}')\n",
    "determinant = np.linalg.det(a)\n",
    "if determinant == 0:\n",
    "    print('Определитель матрицы равен 0, следовательно матрица является вырожденной')\n",
    "else:\n",
    "    print('Определитель матрицы не равен 0, следовательно матрица не является вырожденной')"
   ]
  },
  {
   "cell_type": "markdown",
   "id": "d493cde2-2d89-4de4-bfbd-c5efc51b20fe",
   "metadata": {
    "tags": []
   },
   "source": [
    "# <p style=\"background-color:lightgreen;font-family:newtimeroman;color:#662e2e;font-size:130%;text-align:center;border-radius:30px 30px;\">Задача 4</p>\n",
    "\n",
    "__4.__ Найдите ранг матрицы:\n",
    "\n",
    "   а) $\\begin{pmatrix}\n",
    "1 & 2 & 3\\\\ \n",
    "1 & 1 & 1\\\\ \n",
    "2 & 3 & 4\n",
    "\\end{pmatrix};$\n",
    "\n",
    "   б) $\\begin{pmatrix}\n",
    "0 & 0 & 2 & 1\\\\ \n",
    "0 & 0 & 2 & 2\\\\ \n",
    "0 & 0 & 4 & 3\\\\ \n",
    "2 & 3 & 5 & 6\n",
    "\\end{pmatrix}.$"
   ]
  },
  {
   "cell_type": "markdown",
   "id": "f597b440-82e3-4a10-a965-02c46e4029ac",
   "metadata": {},
   "source": [
    "**Решение:**  "
   ]
  },
  {
   "cell_type": "markdown",
   "id": "ce1e31c0-86c7-4d1e-895b-c47dca6cd6a4",
   "metadata": {},
   "source": [
    "   а) $\\begin{pmatrix}\n",
    "1 & 2 & 3\\\\ \n",
    "1 & 1 & 1\\\\ \n",
    "2 & 3 & 4\n",
    "\\end{pmatrix};$  \n",
    "\n",
    "Третья строка является суммой первых двух. Значит, её можно отбросить.  \n",
    "\n",
    "$\\begin{pmatrix}\n",
    "1 & 2 & 3\\\\ \n",
    "1 & 1 & 1\n",
    "\\end{pmatrix};$  \n",
    "\n",
    "Из первой строки можно вычесть вторую и поменять их местами  \n",
    "\n",
    "$\\begin{pmatrix}\n",
    "1 & 1 & 1\\\\ \n",
    "0 & 1 & 2\n",
    "\\end{pmatrix};$  \n",
    "\n",
    "Таким образом, ранг матрицы равен 2."
   ]
  },
  {
   "cell_type": "code",
   "execution_count": 32,
   "id": "f0b0cc5a-52a5-446c-8962-2b7a1fc08c22",
   "metadata": {},
   "outputs": [
    {
     "name": "stdout",
     "output_type": "stream",
     "text": [
      "Матрица:\n",
      "[[1 2 3]\n",
      " [1 1 1]\n",
      " [2 3 4]]\n",
      "Ранг матрицы: 2\n"
     ]
    }
   ],
   "source": [
    "a = np.array([[1, 2, 3], [1, 1, 1], [2, 3, 4]])\n",
    "r = np.linalg.matrix_rank(a)\n",
    "print(f'Матрица:\\n{a}')\n",
    "print(f'Ранг матрицы: {r}')"
   ]
  },
  {
   "cell_type": "markdown",
   "id": "9903b9fd-da47-446b-b5d3-24990dd8a555",
   "metadata": {},
   "source": [
    "   б) $\\begin{pmatrix}\n",
    "0 & 0 & 2 & 1\\\\ \n",
    "0 & 0 & 2 & 2\\\\ \n",
    "0 & 0 & 4 & 3\\\\ \n",
    "2 & 3 & 5 & 6\n",
    "\\end{pmatrix}$  \n",
    "\n",
    "Третья строка является суммой первых двух. Значит, её можно отбросить.  \n",
    "\n",
    "$\\begin{pmatrix}\n",
    "2 & 3 & 5 & 6\\\\\n",
    "0 & 0 & 2 & 1\\\\ \n",
    "0 & 0 & 2 & 2\n",
    "\\end{pmatrix}$ \n",
    "\n",
    "Из третьей строки вычитаем вторую  \n",
    "\n",
    "$\\begin{pmatrix}\n",
    "2 & 3 & 5 & 6\\\\\n",
    "0 & 0 & 2 & 1\\\\ \n",
    "0 & 0 & 0 & 1\n",
    "\\end{pmatrix}$  \n",
    "\n",
    "Таким образом, ранг матрицы равен 3."
   ]
  },
  {
   "cell_type": "code",
   "execution_count": 33,
   "id": "17d38e7f-a493-4343-8c54-924de6e8991a",
   "metadata": {},
   "outputs": [
    {
     "name": "stdout",
     "output_type": "stream",
     "text": [
      "Матрица:\n",
      "[[0 0 2 1]\n",
      " [0 0 2 2]\n",
      " [0 0 4 3]\n",
      " [2 3 5 6]]\n",
      "Ранг матрицы: 3\n"
     ]
    }
   ],
   "source": [
    "b = np.array([[0, 0, 2, 1], [0, 0, 2, 2], [0, 0, 4, 3], [2, 3, 5, 6]])\n",
    "r = np.linalg.matrix_rank(b)\n",
    "print(f'Матрица:\\n{b}')\n",
    "print(f'Ранг матрицы: {r}')"
   ]
  },
  {
   "cell_type": "code",
   "execution_count": null,
   "id": "64bdc325-8b8b-4430-a325-1dddbc2abe0e",
   "metadata": {},
   "outputs": [],
   "source": []
  }
 ],
 "metadata": {
  "kernelspec": {
   "display_name": "Python 3 (ipykernel)",
   "language": "python",
   "name": "python3"
  },
  "language_info": {
   "codemirror_mode": {
    "name": "ipython",
    "version": 3
   },
   "file_extension": ".py",
   "mimetype": "text/x-python",
   "name": "python",
   "nbconvert_exporter": "python",
   "pygments_lexer": "ipython3",
   "version": "3.9.7"
  }
 },
 "nbformat": 4,
 "nbformat_minor": 5
}

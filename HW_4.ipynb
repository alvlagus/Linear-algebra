{
 "cells": [
  {
   "cell_type": "markdown",
   "id": "25b1f58c",
   "metadata": {},
   "source": [
    "<h1 align='center'>Линейная алгебра</h1>"
   ]
  },
  {
   "cell_type": "markdown",
   "id": "80b4ee62",
   "metadata": {},
   "source": [
    "<h1 align='center'>Практическое задание № 4</h1>"
   ]
  },
  {
   "cell_type": "markdown",
   "id": "80680f47-3b5e-4d10-821a-69eea6637566",
   "metadata": {},
   "source": [
    "## Системы линейных уравнений. Часть 1"
   ]
  },
  {
   "cell_type": "code",
   "execution_count": 1,
   "id": "3f5afd23-12eb-45b3-8ff6-3af48c861406",
   "metadata": {},
   "outputs": [],
   "source": [
    "import numpy as np\n",
    "import scipy\n",
    "from scipy import linalg\n",
    "from scipy.linalg import solve_triangular\n",
    "import pprint"
   ]
  },
  {
   "cell_type": "markdown",
   "id": "c66eaa1e-e108-4e6f-a0be-35ceeaa5f0bd",
   "metadata": {},
   "source": [
    "# <p style=\"background-color:lightgreen;font-family:newtimeroman;color:#662e2e;font-size:130%;text-align:center;border-radius:30px 30px;\">Задача 1</p>\n",
    "\n",
    "__1.__ Решите систему уравнений методом Гаусса:\n",
    "\n",
    "$$\\begin{cases}\n",
    "x_{1}+x_{2}-x_{3}-2x_{4}=0, \\\\\n",
    "2x_{1}+x_{2}-x_{3}+x_{4}=-2, \\\\\n",
    "x_{1}+x_{2}-3x_{3}+x_{4}=4.\n",
    "\\end{cases}$$"
   ]
  },
  {
   "cell_type": "markdown",
   "id": "2ea0d98e",
   "metadata": {},
   "source": [
    "**Решение:**  "
   ]
  },
  {
   "cell_type": "code",
   "execution_count": 2,
   "id": "9a0d176f-b98d-447f-8c68-fef52f31354f",
   "metadata": {},
   "outputs": [],
   "source": [
    "def _gauss_method(a, b, n):\n",
    "    rank_a = np.linalg.matrix_rank(a)\n",
    "    a_extended = np.concatenate((a, b), axis=1)\n",
    "    rank_a_extended = np.linalg.matrix_rank(a_extended)\n",
    "    n = n\n",
    "    if rank_a == rank_a_extended == n:\n",
    "        print(f'Ранг матрицы коэффициентов: {rank_a},\\nРанг расширенной матрицы: {rank_a_extended},\\nЧисло неизвестных: {n}')\n",
    "        print(f'rankA = rankA~ = n\\nСистема совместна и имеет единственное решение')\n",
    "    elif rank_a == rank_a_extended and rank_a < n:\n",
    "        print(f'Ранг матрицы коэффициентов: {rank_a},\\nРанг расширенной матрицы: {rank_a_extended},\\nЧисло неизвестных: {n}')\n",
    "        print(f'rankA = rankA~ < n\\nСистема совместна и имеет бесконечное количество решений')\n",
    "    else:\n",
    "        print(f'Ранг матрицы коэффициентов: {rank_a},\\nРанг расширенной матрицы: {rank_a_extended},\\nЧисло неизвестных: {n}')\n",
    "        print(f'rankA < rankA~\\nСистема несовместна')"
   ]
  },
  {
   "cell_type": "code",
   "execution_count": 3,
   "id": "c8ecf761-0ce0-498c-80ba-0c9971e21c38",
   "metadata": {},
   "outputs": [
    {
     "name": "stdout",
     "output_type": "stream",
     "text": [
      "Ранг матрицы коэффициентов: 3,\n",
      "Ранг расширенной матрицы: 3,\n",
      "Число неизвестных: 4\n",
      "rankA = rankA~ < n\n",
      "Система совместна и имеет бесконечное количество решений\n"
     ]
    }
   ],
   "source": [
    "\n",
    "a = np.array([[1, 1, -1, -2], [2, 1, -1, 1], [1, 1, -3, 1]])\n",
    "b = np.array([0, -2, 4]).reshape(-1,1)\n",
    "n = 4\n",
    "# a, b\n",
    "_gauss_method(a, b, n)"
   ]
  },
  {
   "cell_type": "markdown",
   "id": "ceb4eb94-f967-4456-8948-38bf9d2990f7",
   "metadata": {},
   "source": [
    "\n",
    "$$\\begin{cases}\n",
    "x_{1}+x_{2}-x_{3}-2x_{4}=0, \\\\\n",
    "2x_{1}+x_{2}-x_{3}+x_{4}=-2, \\\\\n",
    "x_{1}+x_{2}-3x_{3}+x_{4}=4.\n",
    "\\end{cases}$$ \n",
    "\n",
    "Матрица коэффициентов системы:\n",
    "$$A=\\begin{pmatrix}\n",
    "1 & 1 & -1 & -2 \\\\\n",
    "2 & 1 & -1 & 1 \\\\\n",
    "1 & 1 & -3 & 1\n",
    "\\end{pmatrix};$$\n",
    "\n",
    "Вектор-столбец неизвестных:\n",
    "$$x = \\begin{pmatrix}\n",
    "x_1\\\\\n",
    "x_2\\\\\n",
    "x_3\\\\\n",
    "x_4\n",
    "\\end{pmatrix};$$  \n",
    "\n",
    "Вектор-столбец правых частей (свободных членов системы):  \n",
    "$$b = \\begin{pmatrix}\n",
    "0\\\\\n",
    "-2\\\\\n",
    "4\n",
    "\\end{pmatrix};$$  \n",
    "\n",
    "Расширенная матрица:  \n",
    "$$\\tilde{A}=\\begin{pmatrix}\n",
    "\\left.\\begin{matrix}\n",
    "1 & 1 & -1 & -2 \\\\\n",
    "2 & 1 & -1 & 1 \\\\\n",
    "1 & 1 & -3 & 1\n",
    "\\end{matrix}\\right|\n",
    "\\begin{matrix}\n",
    "0\\\\\n",
    "-2\\\\\n",
    "4\n",
    "\\end{matrix}\n",
    "\\end{pmatrix}$$  \n",
    "\n",
    "\n",
    "\n",
    "Из 3-го уравнения вычтем первое:  \n",
    "$$\\begin{pmatrix}\n",
    "\\left.\\begin{matrix}\n",
    "1 & 1 & -1 & -2 \\\\\n",
    "2 & 1 & -1 & 1 \\\\\n",
    "1 & 1 & -3 & 1\n",
    "\\end{matrix}\\right|\n",
    "\\begin{matrix}\n",
    "0\\\\\n",
    "-2\\\\\n",
    "4\n",
    "\\end{matrix}\n",
    "\\end{pmatrix}\n",
    "\\rightarrow\n",
    "\\begin{pmatrix}\n",
    "\\left.\\begin{matrix}\n",
    "1 & 1 & -1 & -2 \\\\\n",
    "2 & 1 & -1 & 1 \\\\\n",
    "0 & 0 & -2 & 3\n",
    "\\end{matrix}\\right|\n",
    "\\begin{matrix}\n",
    "0\\\\\n",
    "-2\\\\\n",
    "4\n",
    "\\end{matrix}\n",
    "\\end{pmatrix}$$  \n",
    "\n",
    "1-е уравнение умножим на 2 и вычтем из 2-го:  \n",
    "\n",
    "$$\\begin{pmatrix}\n",
    "\\left.\\begin{matrix}\n",
    "1 & 1 & -1 & -2 \\\\\n",
    "2 & 1 & -1 & 1 \\\\\n",
    "0 & 0 & -2 & 3\n",
    "\\end{matrix}\\right|\n",
    "\\begin{matrix}\n",
    "0\\\\\n",
    "-2\\\\\n",
    "4\n",
    "\\end{matrix}\n",
    "\\end{pmatrix}\n",
    "\\rightarrow\n",
    "\\begin{pmatrix}\n",
    "\\left.\\begin{matrix}\n",
    "1 & 1 & -1 & -2 \\\\\n",
    "0 & -1 & 1 & 5 \\\\\n",
    "0 & 0 & -2 & 3\n",
    "\\end{matrix}\\right|\n",
    "\\begin{matrix}\n",
    "0\\\\\n",
    "-2\\\\\n",
    "4\n",
    "\\end{matrix}\n",
    "\\end{pmatrix}\n",
    "$$  \n",
    "\n",
    "Оставшаяся матрица соответствует системе: \n",
    "$$\\begin{cases}\n",
    "x_{1}+x_{2}-x_{3}-2x_{4}=0, \\\\\n",
    "-x_{2}+x_{3}+5x_{4}=-2, \\\\\n",
    "-2x_{3}+3x_{4}=4.\n",
    "\\end{cases}$$  \n",
    "\n",
    "Последнее уравнение содержит две неизвестных. Неизвестные, «сидящие» на ступеньках матрицы, принято называть _базисными_, и их надо выразить через _свободные_ неизвестные. В этом случае можно рассматривать в качестве _свободного_ параметра $x_{4}=c$. Тогда, выражая остальные переменные через $c$, получим:\n",
    "\n",
    "$$x_{4}=c,$$\n",
    "$$-2x_{3}+3c=4 \\; \\Leftrightarrow \\; x_{3}=-2 + 1.5c,$$\n",
    "$$-x_{2}+(-2 + 1.5c)+5c=-2 \\; \\Leftrightarrow \\; x_{2}=6.5c,$$\n",
    "$$x_{1}+6.5c-(-2 + 1.5c)-2c=0 \\; \\Leftrightarrow \\; x_{1}=-2-4c.$$  \n",
    "\n",
    "Таковым будет _общее решение системы_. Подставляя произвольные числа вместо $c$, мы получим _частное решение_. Например, при $c=0$:\n",
    "\n",
    "$$x_{1}=-2,$$\n",
    "$$x_{2}=0,$$\n",
    "$$x_{3}=-2,$$\n",
    "$$x_{4}=0.$$\n"
   ]
  },
  {
   "cell_type": "markdown",
   "id": "de4912a3-ae24-4874-a078-0b3fdc2ea43b",
   "metadata": {},
   "source": [
    "# <p style=\"background-color:lightgreen;font-family:newtimeroman;color:#662e2e;font-size:130%;text-align:center;border-radius:30px 30px;\">Задача 2</p>\n",
    "\n",
    "__2.__ Проверьте на совместность и выясните, сколько решений будет иметь система линейных уравнений:\n",
    "\n",
    "   а) $\\begin{cases}\n",
    "3x_{1}-x_{2}+x_{3}=4, \\\\\n",
    "2x_{1}-5x_{2}-3x_{3}=-17, \\\\\n",
    "x_{1}+x_{2}-x_{3}=0;\n",
    "\\end{cases}$\n",
    "    \n",
    "   б) $\\begin{cases}\n",
    "2x_{1}-4x_{2}+6x_{3}=1, \\\\\n",
    "x_{1}-2x_{2}+3x_{3}=-2, \\\\\n",
    "3x_{1}-6x_{2}+9x_{3}=5;\n",
    "\\end{cases}$\n",
    "    \n",
    "   в) $\\begin{cases}\n",
    "x_{1}+2x_{2}+5x_{3}=4, \\\\\n",
    "3x_{1}+x_{2}-8x_{3}=-2. \n",
    "\\end{cases}$"
   ]
  },
  {
   "cell_type": "markdown",
   "id": "bcf3755d-f827-484f-b455-79fbd204b912",
   "metadata": {},
   "source": [
    "**Решение:**  "
   ]
  },
  {
   "cell_type": "code",
   "execution_count": 4,
   "id": "f5448670-575a-4067-b3e7-31ab284a4673",
   "metadata": {},
   "outputs": [
    {
     "name": "stdout",
     "output_type": "stream",
     "text": [
      "Ранг матрицы коэффициентов: 3,\n",
      "Ранг расширенной матрицы: 3,\n",
      "Число неизвестных: 3\n",
      "rankA = rankA~ = n\n",
      "Система совместна и имеет единственное решение\n"
     ]
    }
   ],
   "source": [
    "#а\n",
    "a = np.array([[3, -1, 1], [2, -5, -3], [1, 1, -1]])\n",
    "b = np.array([[4], [-17], [0]])\n",
    "n = 3\n",
    "_gauss_method(a, b, n)"
   ]
  },
  {
   "cell_type": "code",
   "execution_count": 5,
   "id": "cf07c0a8-9d77-4f80-a3d7-74ddb63be7d7",
   "metadata": {},
   "outputs": [
    {
     "name": "stdout",
     "output_type": "stream",
     "text": [
      "Ранг матрицы коэффициентов: 1,\n",
      "Ранг расширенной матрицы: 2,\n",
      "Число неизвестных: 3\n",
      "rankA < rankA~\n",
      "Система несовместна\n"
     ]
    }
   ],
   "source": [
    "#б\n",
    "a = np.array([[2, -4, 6], [1, -2, 3], [3, -6, 9]])\n",
    "b = np.array([[1], [-2], [5]])\n",
    "n = 3\n",
    "_gauss_method(a, b, n)"
   ]
  },
  {
   "cell_type": "code",
   "execution_count": 6,
   "id": "ca0cb94e-99b1-47d7-9dfa-0efcd234e4b9",
   "metadata": {},
   "outputs": [
    {
     "name": "stdout",
     "output_type": "stream",
     "text": [
      "Ранг матрицы коэффициентов: 2,\n",
      "Ранг расширенной матрицы: 2,\n",
      "Число неизвестных: 3\n",
      "rankA = rankA~ < n\n",
      "Система совместна и имеет бесконечное количество решений\n"
     ]
    }
   ],
   "source": [
    "#в\n",
    "a = np.array([[1, 2, 5], [3, 1, -8]])\n",
    "b = np.array([[4], [-2]])\n",
    "n = 3\n",
    "_gauss_method(a, b, n)"
   ]
  },
  {
   "cell_type": "markdown",
   "id": "2f5b0a08-2d16-409e-961f-d160267b35f6",
   "metadata": {},
   "source": [
    "# <p style=\"background-color:lightgreen;font-family:newtimeroman;color:#662e2e;font-size:130%;text-align:center;border-radius:30px 30px;\">Задача 3</p>\n",
    "\n",
    "__3.__ Проверьте на совместность и выясните, сколько решений будет иметь система линейных уравнений, заданная расширенной матрицей:\n",
    "\n",
    "$$\\tilde{A}=\\begin{pmatrix}\n",
    "\\left.\\begin{matrix}\n",
    "1 & 3 & -2 & 4\\\\ \n",
    "0 & 5 & 0 & 1\\\\ \n",
    "0 & 0 & 3 & 0\\\\ \n",
    "0 & 0 & 0 & 2\n",
    "\\end{matrix}\\right|\n",
    "\\begin{matrix}\n",
    "3\\\\ \n",
    "2\\\\\n",
    "4\\\\\n",
    "1\n",
    "\\end{matrix}\n",
    "\\end{pmatrix}.$$"
   ]
  },
  {
   "cell_type": "markdown",
   "id": "271efec1-8914-4435-9f68-3cc4bb676248",
   "metadata": {},
   "source": [
    "**Решение:**  "
   ]
  },
  {
   "cell_type": "code",
   "execution_count": 7,
   "id": "9f107acd-e6c9-4b2d-acaa-64ac2d98dfb2",
   "metadata": {},
   "outputs": [
    {
     "name": "stdout",
     "output_type": "stream",
     "text": [
      "Ранг матрицы коэффициентов: 4,\n",
      "Ранг расширенной матрицы: 4,\n",
      "Число неизвестных: 4\n",
      "rankA = rankA~ = n\n",
      "Система совместна и имеет единственное решение\n"
     ]
    }
   ],
   "source": [
    "a = np.array([[1, 3, -2, 4], [0, 5, 0, 1], [0, 0, 3, 0], [0, 0, 0, 2]])\n",
    "b = np.array([[3], [2], [4], [1]])\n",
    "n = 4\n",
    "_gauss_method(a, b, n)"
   ]
  },
  {
   "cell_type": "code",
   "execution_count": 8,
   "id": "72040c29-2f1b-4cf2-86dc-1590688f4ed7",
   "metadata": {},
   "outputs": [
    {
     "data": {
      "text/plain": [
       "array([[2.76666667],\n",
       "       [0.3       ],\n",
       "       [1.33333333],\n",
       "       [0.5       ]])"
      ]
     },
     "execution_count": 8,
     "metadata": {},
     "output_type": "execute_result"
    }
   ],
   "source": [
    "np.linalg.solve(a, b)"
   ]
  },
  {
   "cell_type": "markdown",
   "id": "b4c33ddb-a97d-4edb-a274-b31be9450089",
   "metadata": {},
   "source": [
    "# <p style=\"background-color:lightgreen;font-family:newtimeroman;color:#662e2e;font-size:130%;text-align:center;border-radius:30px 30px;\">Задача 4</p>\n",
    "\n",
    "__4.__ Дана система линейных уравнений, заданная расширенной матрицей:\n",
    "\n",
    "$$\\tilde{A}=\\begin{pmatrix}\n",
    "\\left.\\begin{matrix}\n",
    "1 & 2 & 3\\\\ \n",
    "4 & 5 & 6\\\\ \n",
    "7 & 8 & 9\n",
    "\\end{matrix}\\right|\n",
    "\\begin{matrix}\n",
    "a\\\\ \n",
    "b\\\\\n",
    "c\n",
    "\\end{matrix}\n",
    "\\end{pmatrix}.$$\n",
    "\n",
    "Найдите соотношение между параметрами $a$, $b$ и $c$, при которых система считается несовместной."
   ]
  },
  {
   "cell_type": "markdown",
   "id": "d9ae8aa8-b040-455d-a06f-e552ea61a544",
   "metadata": {},
   "source": [
    "**Решение:**  "
   ]
  },
  {
   "cell_type": "code",
   "execution_count": 9,
   "id": "c30e3b09-4bc0-4d3d-9ee3-c2886cdb810f",
   "metadata": {},
   "outputs": [
    {
     "data": {
      "text/plain": [
       "array([[1, 2, 3],\n",
       "       [4, 5, 6],\n",
       "       [7, 8, 9]])"
      ]
     },
     "execution_count": 9,
     "metadata": {},
     "output_type": "execute_result"
    }
   ],
   "source": [
    "# матрица коэффициентов\n",
    "a = np.array([[1, 2, 3], [4, 5, 6], [7, 8, 9]])\n",
    "a"
   ]
  },
  {
   "cell_type": "code",
   "execution_count": 10,
   "id": "dbda6cce-cca2-41ad-bd51-d70e14033ff4",
   "metadata": {
    "tags": []
   },
   "outputs": [
    {
     "data": {
      "text/plain": [
       "2"
      ]
     },
     "execution_count": 10,
     "metadata": {},
     "output_type": "execute_result"
    }
   ],
   "source": [
    "# ранг матирца а\n",
    "np.linalg.matrix_rank(a)"
   ]
  },
  {
   "cell_type": "markdown",
   "id": "f37f346b-4aa4-476a-ad8c-6dd2faf71cdd",
   "metadata": {},
   "source": [
    "$$\\begin{pmatrix}\n",
    "\\left.\\begin{matrix}\n",
    "1 & 2 & 3\\\\ \n",
    "4 & 5 & 6\\\\ \n",
    "7 & 8 & 9\n",
    "\\end{matrix}\\right|\n",
    "\\begin{matrix}\n",
    "a\\\\ \n",
    "b\\\\\n",
    "c\n",
    "\\end{matrix}\n",
    "\\end{pmatrix}$$\n",
    "\n",
    "Из 2-го уравнения вычтем первое, умноженное на 4:  \n",
    "$$\\begin{pmatrix}\n",
    "\\left.\\begin{matrix}\n",
    "1 & 2 & 3\\\\ \n",
    "4 & 5 & 6\\\\ \n",
    "7 & 8 & 9\n",
    "\\end{matrix}\\right|\n",
    "\\begin{matrix}\n",
    "a\\\\\n",
    "b\\\\\n",
    "c\n",
    "\\end{matrix}\n",
    "\\end{pmatrix}\n",
    "\\rightarrow\n",
    "\\begin{pmatrix}\n",
    "\\left.\\begin{matrix}\n",
    "1 & 2 & 3\\\\ \n",
    "0 & -3 & -6\\\\ \n",
    "7 & 8 & 9\n",
    "\\end{matrix}\\right|\n",
    "\\begin{matrix}\n",
    "a\\\\\n",
    "b-4a\\\\\n",
    "c\n",
    "\\end{matrix}\n",
    "\\end{pmatrix}$$  \n",
    "\n",
    "Из 3-го уравнения вычтем первое, умноженное на 7:  \n",
    "$$\\begin{pmatrix}\n",
    "\\left.\\begin{matrix}\n",
    "1 & 2 & 3\\\\ \n",
    "0 & -3 & -6\\\\ \n",
    "7 & 8 & 9\n",
    "\\end{matrix}\\right|\n",
    "\\begin{matrix}\n",
    "a\\\\\n",
    "b-4a\\\\\n",
    "c\n",
    "\\end{matrix}\n",
    "\\end{pmatrix}\n",
    "\\rightarrow\n",
    "\\begin{pmatrix}\n",
    "\\left.\\begin{matrix}\n",
    "1 & 2 & 3\\\\ \n",
    "0 & -3 & -6\\\\ \n",
    "0 & -6 & -12\n",
    "\\end{matrix}\\right|\n",
    "\\begin{matrix}\n",
    "a\\\\\n",
    "b-4a\\\\\n",
    "c-7a\n",
    "\\end{matrix}\n",
    "\\end{pmatrix}$$  \n",
    "\n",
    "Из 3-го уравнения вычтем второе, умноженное на 2:  \n",
    "$$\\begin{pmatrix}\n",
    "\\left.\\begin{matrix}\n",
    "1 & 2 & 3\\\\ \n",
    "0 & -3 & -6\\\\ \n",
    "0 & -6 & -12\n",
    "\\end{matrix}\\right|\n",
    "\\begin{matrix}\n",
    "a\\\\\n",
    "b-4a\\\\\n",
    "c-7a\n",
    "\\end{matrix}\n",
    "\\end{pmatrix}\n",
    "\\rightarrow\n",
    "\\begin{pmatrix}\n",
    "\\left.\\begin{matrix}\n",
    "1 & 2 & 3\\\\ \n",
    "0 & -3 & -6\\\\ \n",
    "0 & 0 & 0\n",
    "\\end{matrix}\\right|\n",
    "\\begin{matrix}\n",
    "a\\\\\n",
    "b-4a\\\\\n",
    "c-2b+a\n",
    "\\end{matrix}\n",
    "\\end{pmatrix}$$  \n",
    "\n",
    "Чтобы система была несовместной, должно выполнятсья условие $rankA<rank \\tilde A$.  \n",
    "Для этого $c-2b+a \\ne 0$.  \n",
    "\n",
    "Ответ: Система будет считаться несовместной при всех $a, b, c$, кроме $c = 2b-a$.\n",
    "\n"
   ]
  },
  {
   "cell_type": "markdown",
   "id": "ae54f3ad-2abf-401c-a116-7f7a72e72b42",
   "metadata": {},
   "source": [
    "## Системы линейных уравнений. Часть 2"
   ]
  },
  {
   "cell_type": "markdown",
   "id": "9388d5d0-6a18-4764-a1f5-2673aeca87ca",
   "metadata": {
    "tags": []
   },
   "source": [
    "# <p style=\"background-color:lightgreen;font-family:newtimeroman;color:#662e2e;font-size:130%;text-align:center;border-radius:30px 30px;\">Задача 1</p>\n",
    "\n",
    "__1.__ Решите систему уравнений методом Крамера:\n",
    "\n",
    "   а) $\\begin{cases}\n",
    "x_{1}-2x_{2}=1 \\\\\n",
    "3x_{1}-4x_{2}=7\n",
    "\\end{cases}$\n",
    "    \n",
    "   б) $\\begin{cases}\n",
    "2x_{1}-x_{2}+5x_{3}=10 \\\\\n",
    "x_{1}+x_{2}-3x_{3}=-2 \\\\\n",
    "2x_{1}+4x_{2}+x_{3}=1\n",
    "\\end{cases}$"
   ]
  },
  {
   "cell_type": "markdown",
   "id": "de38c4d3-95d7-447e-aa88-9d6a7cb527cc",
   "metadata": {},
   "source": [
    "**Решение:**  "
   ]
  },
  {
   "cell_type": "markdown",
   "id": "4ce28e79-098c-43c4-8c57-1650d0281000",
   "metadata": {},
   "source": [
    "a)\n",
    "$$\\begin{cases}\n",
    "x_{1}-2x_{2}=1 \\\\\n",
    "3x_{1}-4x_{2}=7\n",
    "\\end{cases}$$\n"
   ]
  },
  {
   "cell_type": "code",
   "execution_count": 11,
   "id": "b96505ce-7727-46bf-ac76-8f2844646f6b",
   "metadata": {},
   "outputs": [
    {
     "data": {
      "text/plain": [
       "(array([[ 1, -2],\n",
       "        [ 3, -4]]),\n",
       " array([[1],\n",
       "        [7]]))"
      ]
     },
     "execution_count": 11,
     "metadata": {},
     "output_type": "execute_result"
    }
   ],
   "source": [
    "A = np.array([[1, -2],[3, -4]])\n",
    "b = np.array([1, 7]).reshape(-1, 1)\n",
    "A, b"
   ]
  },
  {
   "cell_type": "code",
   "execution_count": 12,
   "id": "ac73c7cb-6ff3-4510-b035-39c6f1a3b849",
   "metadata": {},
   "outputs": [
    {
     "data": {
      "text/plain": [
       "2.0000000000000004"
      ]
     },
     "execution_count": 12,
     "metadata": {},
     "output_type": "execute_result"
    }
   ],
   "source": [
    "det_A = np.linalg.det(A)\n",
    "det_A"
   ]
  },
  {
   "cell_type": "markdown",
   "id": "3009e940-2070-4089-8481-faa1d893a5dc",
   "metadata": {
    "tags": []
   },
   "source": [
    "$detA \\ne 0$, следовательно, система совместна.  \n",
    "Найдём определители $detA_{1}$, $detA_{2}$:"
   ]
  },
  {
   "cell_type": "code",
   "execution_count": 13,
   "id": "85abc591-7d2f-436f-bfcc-55aa171119ae",
   "metadata": {},
   "outputs": [
    {
     "data": {
      "text/plain": [
       "(9.999999999999998, 4.0)"
      ]
     },
     "execution_count": 13,
     "metadata": {},
     "output_type": "execute_result"
    }
   ],
   "source": [
    "det_A1 = np.linalg.det(np.hstack((b, A[:,1].reshape(-1, 1))))\n",
    "det_A2 = np.linalg.det(np.hstack((A[:,0].reshape(-1, 1), b)))\n",
    "det_A1, det_A2"
   ]
  },
  {
   "cell_type": "markdown",
   "id": "93d94385-daaf-44f6-85e2-477d78db089e",
   "metadata": {},
   "source": [
    "Найдём решение по формулам Крамера:  \n",
    "    $$x_{i}=\\frac{detA_{i}}{detA},$$"
   ]
  },
  {
   "cell_type": "code",
   "execution_count": 14,
   "id": "45c2b3b4-f8ba-4793-a8d8-b360f945f60e",
   "metadata": {},
   "outputs": [
    {
     "data": {
      "text/plain": [
       "4.999999999999998"
      ]
     },
     "execution_count": 14,
     "metadata": {},
     "output_type": "execute_result"
    }
   ],
   "source": [
    "x1 = det_A1 / det_A\n",
    "x1"
   ]
  },
  {
   "cell_type": "code",
   "execution_count": 15,
   "id": "ecbbb580-52ac-47fd-b840-58ad3b289b8e",
   "metadata": {
    "tags": []
   },
   "outputs": [
    {
     "data": {
      "text/plain": [
       "1.9999999999999996"
      ]
     },
     "execution_count": 15,
     "metadata": {},
     "output_type": "execute_result"
    }
   ],
   "source": [
    "x2 = det_A2 / det_A\n",
    "x2"
   ]
  },
  {
   "cell_type": "code",
   "execution_count": 16,
   "id": "b1ab62ec-e5a3-4123-acbf-85be565dd567",
   "metadata": {},
   "outputs": [
    {
     "data": {
      "text/plain": [
       "array([[5.],\n",
       "       [2.]])"
      ]
     },
     "execution_count": 16,
     "metadata": {},
     "output_type": "execute_result"
    }
   ],
   "source": [
    "np.linalg.solve(A, b)"
   ]
  },
  {
   "cell_type": "markdown",
   "id": "ec9e2733-f910-429c-a488-14260b1cbc8b",
   "metadata": {},
   "source": [
    "   б) \n",
    "   $$\\begin{cases}\n",
    "2x_{1}-x_{2}+5x_{3}=10 \\\\\n",
    "x_{1}+x_{2}-3x_{3}=-2 \\\\\n",
    "2x_{1}+4x_{2}+x_{3}=1\n",
    "\\end{cases}$$"
   ]
  },
  {
   "cell_type": "code",
   "execution_count": 17,
   "id": "080d6f76-2f69-4fe9-a644-d682b245b57f",
   "metadata": {},
   "outputs": [
    {
     "data": {
      "text/plain": [
       "(array([[ 2, -1,  5],\n",
       "        [ 1,  1, -3],\n",
       "        [ 2,  4,  1]]),\n",
       " array([[10],\n",
       "        [-2],\n",
       "        [ 1]]))"
      ]
     },
     "execution_count": 17,
     "metadata": {},
     "output_type": "execute_result"
    }
   ],
   "source": [
    "A = np.array([[2, -1, 5],[1, 1, -3], [2, 4, 1]])\n",
    "b = np.array([10, -2, 1]).reshape(-1, 1)\n",
    "A, b"
   ]
  },
  {
   "cell_type": "code",
   "execution_count": 18,
   "id": "9e1e05d9-2091-40e2-80d6-5816519b551e",
   "metadata": {},
   "outputs": [
    {
     "data": {
      "text/plain": [
       "42.99999999999998"
      ]
     },
     "execution_count": 18,
     "metadata": {},
     "output_type": "execute_result"
    }
   ],
   "source": [
    "det_A = np.linalg.det(A)\n",
    "det_A"
   ]
  },
  {
   "cell_type": "markdown",
   "id": "f86bed29-75af-4fe7-8770-7321a5d40f4b",
   "metadata": {
    "tags": []
   },
   "source": [
    "$detA \\ne 0$, следовательно, система совместна.  \n",
    "Найдём определители $detA_{1}$, $detA_{2}$, $detA_{3}$:"
   ]
  },
  {
   "cell_type": "code",
   "execution_count": 19,
   "id": "e5f32493-b789-4a49-a3df-459f39abe697",
   "metadata": {},
   "outputs": [
    {
     "data": {
      "text/plain": [
       "(86.00000000000004, -43.000000000000014, 42.99999999999998)"
      ]
     },
     "execution_count": 19,
     "metadata": {},
     "output_type": "execute_result"
    }
   ],
   "source": [
    "det_A1 = np.linalg.det(np.hstack((b, A[:,1:])))\n",
    "det_A2 = np.linalg.det(np.hstack((A[:,:1], b, A[:,-1:])))\n",
    "det_A3 = np.linalg.det(np.hstack((A[:,:2], b)))\n",
    "det_A1, det_A2, det_A3"
   ]
  },
  {
   "cell_type": "markdown",
   "id": "e01f8de3-7dd6-4aa2-b303-1b3890f053a7",
   "metadata": {},
   "source": [
    "Найдём решение по формулам Крамера:  \n",
    "    $$x_{i}=\\frac{detA_{i}}{detA},$$"
   ]
  },
  {
   "cell_type": "code",
   "execution_count": 20,
   "id": "b6b3d195-14fc-433f-8ae8-41408f2fe751",
   "metadata": {},
   "outputs": [
    {
     "data": {
      "text/plain": [
       "2.0000000000000018"
      ]
     },
     "execution_count": 20,
     "metadata": {},
     "output_type": "execute_result"
    }
   ],
   "source": [
    "x1 = det_A1 / det_A\n",
    "x1"
   ]
  },
  {
   "cell_type": "code",
   "execution_count": 21,
   "id": "17531c19-1981-4332-bc95-075178faa401",
   "metadata": {
    "tags": []
   },
   "outputs": [
    {
     "data": {
      "text/plain": [
       "-1.0000000000000009"
      ]
     },
     "execution_count": 21,
     "metadata": {},
     "output_type": "execute_result"
    }
   ],
   "source": [
    "x2 = det_A2 / det_A\n",
    "x2"
   ]
  },
  {
   "cell_type": "code",
   "execution_count": 22,
   "id": "7c1ba990-195d-45ae-9010-f5e8b4745e15",
   "metadata": {},
   "outputs": [
    {
     "data": {
      "text/plain": [
       "1.0"
      ]
     },
     "execution_count": 22,
     "metadata": {},
     "output_type": "execute_result"
    }
   ],
   "source": [
    "x3 = det_A3 / det_A\n",
    "x3"
   ]
  },
  {
   "cell_type": "code",
   "execution_count": 23,
   "id": "02ed0808-a496-4e8d-9135-22f01ab32833",
   "metadata": {},
   "outputs": [
    {
     "data": {
      "text/plain": [
       "array([[ 2.],\n",
       "       [-1.],\n",
       "       [ 1.]])"
      ]
     },
     "execution_count": 23,
     "metadata": {},
     "output_type": "execute_result"
    }
   ],
   "source": [
    "np.linalg.solve(A, b)"
   ]
  },
  {
   "cell_type": "markdown",
   "id": "92f4e4e5-85c1-46b5-93ba-6054abb36f56",
   "metadata": {
    "tags": []
   },
   "source": [
    "# <p style=\"background-color:lightgreen;font-family:newtimeroman;color:#662e2e;font-size:130%;text-align:center;border-radius:30px 30px;\">Задача 2</p>\n",
    "\n",
    "__2*.__ Найдите $L$-матрицу $LU$-разложения для матрицы коэффициентов:\n",
    "\n",
    "   а)$$\\begin{pmatrix}\n",
    "1 & 2 & 4 \\\\ \n",
    "2 & 9 & 12 \\\\ \n",
    "3 & 26 & 30\n",
    "\\end{pmatrix}$$\n",
    "    \n",
    "   б)$$\\begin{pmatrix}\n",
    "1 & 1 & 2 & 4\\\\ \n",
    "2 & 5 & 8 & 9\\\\ \n",
    "3 & 18 & 29 & 18\\\\\n",
    "4 & 22 & 53 & 33\n",
    "\\end{pmatrix}$$"
   ]
  },
  {
   "cell_type": "markdown",
   "id": "f598e856-aa88-457e-a68c-28460dde5aee",
   "metadata": {},
   "source": [
    "**Решение:**  "
   ]
  },
  {
   "cell_type": "markdown",
   "id": "419a23e4-eea4-4460-83a7-ff276f33d2b9",
   "metadata": {},
   "source": [
    "   а)\n",
    "    $$\\begin{pmatrix}\n",
    "1 & 2 & 4 \\\\ \n",
    "2 & 9 & 12 \\\\ \n",
    "3 & 26 & 30\n",
    "\\end{pmatrix}$$"
   ]
  },
  {
   "cell_type": "code",
   "execution_count": 24,
   "id": "e548d0ed-c2a0-49f0-ad14-5bd888217990",
   "metadata": {},
   "outputs": [
    {
     "name": "stdout",
     "output_type": "stream",
     "text": [
      "A:\n",
      "array([[ 1,  2,  4],\n",
      "       [ 2,  9, 12],\n",
      "       [ 3, 26, 30]])\n",
      "P — матрица перестановок:\n",
      "array([[0., 0., 1.],\n",
      "       [0., 1., 0.],\n",
      "       [1., 0., 0.]])\n",
      "L — нижняя треугольная с единичными диагональными элементами:\n",
      "array([[1.        , 0.        , 0.        ],\n",
      "       [0.66666667, 1.        , 0.        ],\n",
      "       [0.33333333, 0.8       , 1.        ]])\n",
      "U — верхняя треугольная:\n",
      "array([[ 3.        , 26.        , 30.        ],\n",
      "       [ 0.        , -8.33333333, -8.        ],\n",
      "       [ 0.        ,  0.        ,  0.4       ]])\n"
     ]
    }
   ],
   "source": [
    "A = np.array([[1, 2, 4],[2, 9, 12],[3, 26, 30]])\n",
    "p, l, u = scipy.linalg.lu(A)\n",
    "\n",
    "print('A:')\n",
    "pprint.pprint(A)\n",
    "\n",
    "print('P — матрица перестановок:')\n",
    "pprint.pprint(p)\n",
    "\n",
    "print('L — нижняя треугольная с единичными диагональными элементами:')\n",
    "pprint.pprint(l)\n",
    "\n",
    "print('U — верхняя треугольная:')\n",
    "pprint.pprint(u)"
   ]
  },
  {
   "cell_type": "markdown",
   "id": "d0722eeb-10a6-49cb-8fb8-143188a8da3c",
   "metadata": {},
   "source": [
    "$U = \\begin{pmatrix}\n",
    "3 & 26 & 30 \\\\\n",
    "2 & 9 & 12 \\\\ \n",
    "1 & 2 & 4 \\\\ \n",
    "\\end{pmatrix}$\n",
    "\n",
    "$L = \\begin{pmatrix} \n",
    "1 & 0 & 0 \\\\\n",
    "0 & 1 & 0 \\\\\n",
    "0 & 0 & 1\n",
    "\\end{pmatrix}$\n",
    "\n",
    "$U = \\begin{pmatrix}\n",
    "3 & 26 & 30 \\\\\n",
    "0 & - \\frac{25}{3} & -8 \\\\ \n",
    "0 & -\\frac{20}{3} & -6 \\\\ \n",
    "\\end{pmatrix}$\n",
    "\n",
    "$U = \\begin{pmatrix}\n",
    "3 & 26 & 30 \\\\\n",
    "0 & -8 \\frac{1}{3} & -8 \\\\ \n",
    "0 & 0 & \\frac{2}{5} \\\\ \n",
    "\\end{pmatrix}$\n",
    "\n",
    "$L = \\begin{pmatrix} \n",
    "1 & 0 & 0 \\\\\n",
    "\\frac{2}{3} & 1 & 0 \\\\\n",
    "\\frac{1}{3} & \\frac{4}{5} & 1\n",
    "\\end{pmatrix}$"
   ]
  },
  {
   "cell_type": "markdown",
   "id": "4d9d3083-04dc-457e-942e-baa48e11f2b9",
   "metadata": {},
   "source": [
    "   б)\n",
    "   $$\\begin{pmatrix}\n",
    "1 & 1 & 2 & 4\\\\ \n",
    "2 & 5 & 8 & 9\\\\ \n",
    "3 & 18 & 29 & 18\\\\\n",
    "4 & 22 & 53 & 33\n",
    "\\end{pmatrix}$$"
   ]
  },
  {
   "cell_type": "code",
   "execution_count": 25,
   "id": "fa4909cf-e22f-40ed-99d1-cee7cd921316",
   "metadata": {},
   "outputs": [
    {
     "name": "stdout",
     "output_type": "stream",
     "text": [
      "A:\n",
      "array([[ 1,  1,  2,  4],\n",
      "       [ 2,  5,  8,  9],\n",
      "       [ 3, 18, 29, 18],\n",
      "       [ 4, 22, 53, 33]])\n",
      "P — матрица перестановок:\n",
      "array([[0., 0., 0., 1.],\n",
      "       [0., 1., 0., 0.],\n",
      "       [0., 0., 1., 0.],\n",
      "       [1., 0., 0., 0.]])\n",
      "L — нижняя треугольная с единичными диагональными элементами:\n",
      "array([[ 1.        ,  0.        ,  0.        ,  0.        ],\n",
      "       [ 0.5       ,  1.        ,  0.        ,  0.        ],\n",
      "       [ 0.75      , -0.25      ,  1.        ,  0.        ],\n",
      "       [ 0.25      ,  0.75      , -0.17073171,  1.        ]])\n",
      "U — верхняя треугольная:\n",
      "array([[  4.        ,  22.        ,  53.        ,  33.        ],\n",
      "       [  0.        ,  -6.        , -18.5       ,  -7.5       ],\n",
      "       [  0.        ,   0.        , -15.375     ,  -8.625     ],\n",
      "       [  0.        ,   0.        ,   0.        ,  -0.09756098]])\n"
     ]
    }
   ],
   "source": [
    "A = np.array([[1, 1, 2, 4], [2, 5, 8, 9], [3, 18, 29, 18], [4, 22, 53, 33]])\n",
    "p, l, u = scipy.linalg.lu(A)\n",
    "\n",
    "print('A:')\n",
    "pprint.pprint(A)\n",
    "\n",
    "print('P — матрица перестановок:')\n",
    "pprint.pprint(p)\n",
    "\n",
    "print('L — нижняя треугольная с единичными диагональными элементами:')\n",
    "pprint.pprint(l)\n",
    "\n",
    "print('U — верхняя треугольная:')\n",
    "pprint.pprint(u)"
   ]
  },
  {
   "cell_type": "markdown",
   "id": "bcfb9475-40eb-4cfe-8418-5059e7a82756",
   "metadata": {},
   "source": [
    "$U = \\begin{pmatrix}\n",
    "4 & 22 & 53 & 33 \\\\\n",
    "2 & 5 & 8 & 9 \\\\ \n",
    "3 & 18 & 29 & 18 \\\\\n",
    "1 & 1 & 2 & 4\n",
    "\\end{pmatrix}\n",
    "\\rightarrow\n",
    "\\begin{pmatrix}\n",
    "4 & 22 & 53 & 33 \\\\\n",
    "0 & -6 & -18 \\frac{1}{2} & -7 \\frac{1}{2} \\\\ \n",
    "0 & 1 \\frac{1}{2} & -10 \\frac{3}{4} & -6 \\frac{3}{4} \\\\\n",
    "0 & -4 \\frac{1}{2} & -11 \\frac{1}{4} & -4 \\frac{1}{4} \n",
    "\\end{pmatrix}\n",
    "\\rightarrow\n",
    "\\begin{pmatrix}\n",
    "4 & 22 & 53 & 33 \\\\\n",
    "0 & -6 & -18 \\frac{1}{2} & -7 \\frac{1}{2} \\\\ \n",
    "0 & 1 \\frac{1}{2} & -10 \\frac{3}{4} & -6 \\frac{3}{4} \\\\\n",
    "0 & -4 \\frac{1}{2} & -11 \\frac{1}{4} & -4 \\frac{1}{4} \n",
    "\\end{pmatrix}\n",
    "\\rightarrow\n",
    "\\begin{pmatrix}\n",
    "4 & 22 & 53 & 33 \\\\\n",
    "0 & -6 & -18 \\frac{1}{2} & -7 \\frac{1}{2} \\\\ \n",
    "0 & 0 & -15 \\frac{3}{8} & -8 \\frac{5}{8} \\\\\n",
    "0 & 0 & 2 \\frac{5}{8} & 1 \\frac{3}{8} \n",
    "\\end{pmatrix}\n",
    "\\rightarrow\n",
    "\\begin{pmatrix}\n",
    "4 & 22 & 53 & 33 \\\\\n",
    "0 & -6 & -18 \\frac{1}{2} & -7 \\frac{1}{2} \\\\ \n",
    "0 & 0 & -15 \\frac{3}{8} & -8 \\frac{5}{8} \\\\\n",
    "0 & 0 & 0 & - \\frac{4}{41}\n",
    "\\end{pmatrix}$\n",
    "\n",
    "$L = \\begin{pmatrix} \n",
    "1 & 0 & 0 & 0 \\\\\n",
    "\\frac{1}{2} & 1 & 0 & 0 \\\\\n",
    "\\frac{3}{4} & -\\frac{1}{4} & 1 & 0 \\\\\n",
    "\\frac{1}{4} & \\frac{3}{4} & - \\frac{7}{41} & 1\n",
    "\\end{pmatrix}$"
   ]
  },
  {
   "cell_type": "code",
   "execution_count": null,
   "id": "745203bb-eb0c-4eba-ad8c-ac893920e9b5",
   "metadata": {},
   "outputs": [],
   "source": []
  },
  {
   "cell_type": "markdown",
   "id": "31c2a01b-e3ec-4cf7-8990-f9b799dff3fa",
   "metadata": {
    "tags": []
   },
   "source": [
    "# <p style=\"background-color:lightgreen;font-family:newtimeroman;color:#662e2e;font-size:130%;text-align:center;border-radius:30px 30px;\">Задача 3</p>\n",
    "\n",
    "__3*.__ Решите систему линейных уравнений методом $LU$-разложения:\n",
    "\n",
    "$$\\begin{cases}\n",
    "2x_{1}+x_{2}+3x_{3}=1 \\\\\n",
    "11x_{1}+7x_{2}+5x_{3}=-6 \\\\\n",
    "9x_{1}+8x_{2}+4x_{3}=-5\n",
    "\\end{cases}$$"
   ]
  },
  {
   "cell_type": "markdown",
   "id": "6176cbdd-e524-4590-9f73-0a1024a1faeb",
   "metadata": {},
   "source": [
    "**Решение:**  "
   ]
  },
  {
   "cell_type": "code",
   "execution_count": 26,
   "id": "a609d098-7825-4d5c-82c8-0ba133ef8da8",
   "metadata": {},
   "outputs": [
    {
     "name": "stdout",
     "output_type": "stream",
     "text": [
      "A:\n",
      "array([[ 2,  1,  3],\n",
      "       [11,  7,  5],\n",
      "       [ 9,  8,  4]])\n",
      "P — матрица перестановок:\n",
      "array([[0., 0., 1.],\n",
      "       [1., 0., 0.],\n",
      "       [0., 1., 0.]])\n",
      "L — нижняя треугольная с единичными диагональными элементами:\n",
      "array([[ 1.        ,  0.        ,  0.        ],\n",
      "       [ 0.81818182,  1.        ,  0.        ],\n",
      "       [ 0.18181818, -0.12      ,  1.        ]])\n",
      "U — верхняя треугольная:\n",
      "array([[11.        ,  7.        ,  5.        ],\n",
      "       [ 0.        ,  2.27272727, -0.09090909],\n",
      "       [ 0.        ,  0.        ,  2.08      ]])\n"
     ]
    }
   ],
   "source": [
    "A = np.array([[2, 1, 3], [11, 7, 5], [9, 8, 4]])\n",
    "b =np.array([1, -6, -5])\n",
    "p, l, u = scipy.linalg.lu(A)\n",
    "\n",
    "print('A:')\n",
    "pprint.pprint(A)\n",
    "\n",
    "print('P — матрица перестановок:')\n",
    "pprint.pprint(p)\n",
    "\n",
    "print('L — нижняя треугольная с единичными диагональными элементами:')\n",
    "pprint.pprint(l)\n",
    "\n",
    "print('U — верхняя треугольная:')\n",
    "pprint.pprint(u)"
   ]
  },
  {
   "cell_type": "code",
   "execution_count": 27,
   "id": "1ba73c76-a253-4c13-bd0f-bfdf6e6f5c8e",
   "metadata": {},
   "outputs": [],
   "source": [
    "lu, piv = linalg.lu_factor(A)\n",
    "x = linalg.lu_solve((lu, piv), b)"
   ]
  },
  {
   "cell_type": "code",
   "execution_count": 28,
   "id": "4bcda2c7-cb88-42cd-bed8-7667a1b9083b",
   "metadata": {},
   "outputs": [
    {
     "name": "stdout",
     "output_type": "stream",
     "text": [
      " x_1 = -1.0000000000000002\n",
      " x_2 = 2.4424906541753446e-16\n",
      " x_3 = 1.0\n"
     ]
    }
   ],
   "source": [
    "print(f' x_1 = {x[0]}\\n x_2 = {x[1]}\\n x_3 = {x[2]}')"
   ]
  },
  {
   "cell_type": "markdown",
   "id": "06e5845e-fc4e-41e3-bf13-088c3ae03114",
   "metadata": {},
   "source": [
    "$U = \\begin{pmatrix}\n",
    "11 & 7 & 5 \\\\\n",
    "9 & 8 & 4 \\\\\n",
    "2 & 1 & 3\n",
    "\\end{pmatrix}\n",
    "\\rightarrow\n",
    "\\begin{pmatrix}\n",
    "11 & 7 & 5 \\\\\n",
    "0 & \\frac{25}{11} & - \\frac{1}{11} \\\\\n",
    "0 & - \\frac{3}{11} & \\frac{23}{11}  \n",
    "\\end{pmatrix}\n",
    "\\rightarrow\n",
    "\\begin{pmatrix}\n",
    "11 & 7 & 5 \\\\\n",
    "0 & \\frac{25}{11} & - \\frac{1}{11} \\\\\n",
    "0 & 0 & \\frac{52}{25}  \n",
    "\\end{pmatrix}$\n",
    "\n",
    "$L = \\begin{pmatrix} \n",
    "1 & 0 & 0 \\\\\n",
    "\\frac{9}{11} & 1 & 0 \\\\\n",
    "\\frac{2}{11} & - \\frac{3}{25} & 1\n",
    "\\end{pmatrix} $\n",
    "\n",
    "$\\begin{cases}\n",
    "y_{1} = -6, \\\\\n",
    "\\frac{9}{11} y_{1} + y_{2} =-5, \\\\\n",
    "\\frac{2}{11}y_{1} - \\frac{3}{25} y_{2} + y_{3} = 1.\n",
    "\\end{cases}$\n",
    "\n",
    "$y_{1} = -6$  \n",
    "$y_{2} = -\\frac{1}{11}$  \n",
    "$y_{3} = \\frac{52}{25}$  \n",
    "\n",
    "$Ux=y:$\n",
    "\n",
    "$\\begin{cases}\n",
    "11x_{1} + 7x_{2} + 5x_{3} = -6, \\\\\n",
    "\\frac{25}{11} x_{2} - \\frac{1}{11} x_{3}= - \\frac{1}{11}, \\\\\n",
    "\\frac{52}{25} x_{3} = \\frac{52}{25}\n",
    "\\end{cases}$\n",
    "\n",
    "$x_{1} = -1$    \n",
    "$x_{2} = 0$  \n",
    "$x_{3} = 1$  \n",
    "\n",
    "$2 \\cdot (-1) + 0 + 3 \\cdot 1 = 1$  \n",
    "$11 \\cdot (-1) + 7 \\cdot 0 + 5 \\cdot 1 = -6$  \n",
    "$9 \\cdot (-1) + 8 \\cdot 0 + 4 \\cdot 1 = -5$  "
   ]
  },
  {
   "cell_type": "markdown",
   "id": "90f20a50-f183-49d8-86e7-4ed12bd23157",
   "metadata": {
    "tags": []
   },
   "source": [
    "# <p style=\"background-color:lightgreen;font-family:newtimeroman;color:#662e2e;font-size:130%;text-align:center;border-radius:30px 30px;\">Задача 4</p>\n",
    "\n",
    "__4*.__ Решите систему линейных уравнений методом Холецкого:\n",
    "\n",
    "$$\\begin{cases}\n",
    "81x_{1}-45x_{2}+45x_{3}=531 \\\\\n",
    "-45x_{1}+50x_{2}-15x_{3}=-460 \\\\\n",
    "45x_{1}-15x_{2}+38x_{3}=193\n",
    "\\end{cases}$$"
   ]
  },
  {
   "cell_type": "markdown",
   "id": "624d77b7-eb22-4f2d-9014-3230268ec792",
   "metadata": {},
   "source": [
    "**Решение:**  "
   ]
  },
  {
   "cell_type": "code",
   "execution_count": 29,
   "id": "f9cb9133-e3b4-4681-8b13-f764d447f678",
   "metadata": {},
   "outputs": [
    {
     "name": "stdout",
     "output_type": "stream",
     "text": [
      " x_1 = 6.0\n",
      " x_2 = -5.0\n",
      " x_3 = -4.0\n"
     ]
    }
   ],
   "source": [
    "A = np.matrix([[81, -45, 45],\n",
    "               [-45, 50, -15],\n",
    "               [45, -15, 38]])\n",
    "b = np.array  ([531, -460, 193])\n",
    " \n",
    "#Разложение Холецкого\n",
    "for i in range(10000):\n",
    "    L = np.linalg.cholesky(A)\n",
    "    Y = solve_triangular(L, b, lower = True, check_finite = False)\n",
    "    X = solve_triangular(L, Y, lower = True, trans = 1, check_finite = False)\n",
    "\n",
    "print(f' x_1 = {X[0]}\\n x_2 = {X[1]}\\n x_3 = {X[2]}')"
   ]
  },
  {
   "cell_type": "markdown",
   "id": "6f182e0f-1953-4699-9f4b-6a3f1fea3725",
   "metadata": {},
   "source": [
    "$\\begin{pmatrix}\n",
    "81 & -45 & 45 \\\\\n",
    "-45 & 50 & -15 \\\\\n",
    "45 & -15 & 38\n",
    "\\end{pmatrix}$\n",
    "\n",
    "Произведём разложение на $LL^{T}$:  \n",
    "    \n",
    "$l_{11} =\\sqrt{a_{11}} = \\sqrt{81} = 9$  \n",
    "$l_{21} =\\frac{a_{21}}{l_{11}} = \\frac{-45}{9} = -5$  \n",
    "$l_{31} =\\frac{a_{31}}{l_{11}} = \\frac{45}{9} = 5$  \n",
    "\n",
    "$l_{22} = \\sqrt{a_{22}-l_{21}^{2}} = \\sqrt{50 - (-5)^2} = 5$  \n",
    "$l_{32} = \\frac{1}{l_{22}}\\left ( a_{32}-l_{21}l_{31} \\right) = \\frac{1}{5}(-15 - (-5) \\cdot 5) = 2$\n",
    "\n",
    "$l_{33} = \\sqrt{a_{33}-l_{32}^{2}-l_{31}^{2}} = \\sqrt{38 - 2^2 - 5^2} = 3$\n",
    "\n",
    "Получили матрицу:  \n",
    "    \n",
    "$L = \\begin{pmatrix}\n",
    "9 & 0 & 0 \\\\ \n",
    "-5 & 5 & 0 \\\\ \n",
    "5 & 2 & 3\n",
    "\\end{pmatrix}, \n",
    "\\; \\; \n",
    "L^{T} = \\begin{pmatrix}\n",
    "9 & -5 & 5 \\\\ \n",
    "0 & 5 & 2\\\\ \n",
    "0 & 0 & 3\n",
    "\\end{pmatrix}.$\n",
    "\n",
    "Решим систему $Ly=b:$  \n",
    "\n",
    "$\\begin{cases}\n",
    "    9 y_1 = 531 \\\\\n",
    "    -5 y_1 + 5 y_2 = -460 \\\\\n",
    "    5 y_1 + 2 y_2 + 3 y_3 = 193\n",
    "\\end{cases}$\n",
    "\n",
    "$y_1 = 59$  \n",
    "$y_2 = -33$  \n",
    "$y_3 = -12$  \n",
    "\n",
    "И решим систему $L^{T}x=y:$  \n",
    "\n",
    "$\\begin{cases}\n",
    "    9 x_1 - 5 x_2 + 5 x_3 = 59 \\\\\n",
    "    5 x_2 + 2 x_3 = -33 \\\\\n",
    "    3 x_3 = -12\n",
    "\\end{cases}$\n",
    "\n",
    "$x_1 = 6$  \n",
    "$x_2 = -5$  \n",
    "$x_3 = -4$  \n",
    "\n",
    "Осуществим проверку, подставив полученные значения в исходную систему:  \n",
    "\n",
    "$\\begin{cases}\n",
    "    81 \\cdot 6 - 45 \\cdot (-5) + 45 \\cdot (-4) = 531 \\\\\n",
    "    -45 \\cdot 6 + 50 \\cdot (-5) - 15 \\cdot (-4) = -460 \\\\\n",
    "    45 \\cdot 6 - 15 \\cdot (-5) + 38 \\cdot (-4) = 193\n",
    "\\end{cases}$"
   ]
  },
  {
   "cell_type": "markdown",
   "id": "3e2d45d4-9b00-4648-90a9-3edd2890c952",
   "metadata": {
    "tags": []
   },
   "source": [
    "# <p style=\"background-color:lightgreen;font-family:newtimeroman;color:#662e2e;font-size:130%;text-align:center;border-radius:30px 30px;\">Задача 5</p>\n",
    "\n",
    "__5*.__ Напишите на Python программу с реализацией одного из изученных алгоритмов решения СЛАУ."
   ]
  }
 ],
 "metadata": {
  "kernelspec": {
   "display_name": "Python 3 (ipykernel)",
   "language": "python",
   "name": "python3"
  },
  "language_info": {
   "codemirror_mode": {
    "name": "ipython",
    "version": 3
   },
   "file_extension": ".py",
   "mimetype": "text/x-python",
   "name": "python",
   "nbconvert_exporter": "python",
   "pygments_lexer": "ipython3",
   "version": "3.9.12"
  }
 },
 "nbformat": 4,
 "nbformat_minor": 5
}

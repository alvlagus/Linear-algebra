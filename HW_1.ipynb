{
 "cells": [
  {
   "cell_type": "markdown",
   "id": "25b1f58c",
   "metadata": {},
   "source": [
    "<h1 align='center'>Линейная алгебра</h1>"
   ]
  },
  {
   "cell_type": "markdown",
   "id": "80b4ee62",
   "metadata": {},
   "source": [
    "<h1 align='center'>Домашнее задание № 1</h1>"
   ]
  },
  {
   "cell_type": "markdown",
   "id": "80680f47-3b5e-4d10-821a-69eea6637566",
   "metadata": {},
   "source": [
    "## Линейное пространство. Основные понятия. Часть 1"
   ]
  },
  {
   "cell_type": "code",
   "execution_count": 1,
   "id": "3f5afd23-12eb-45b3-8ff6-3af48c861406",
   "metadata": {},
   "outputs": [],
   "source": [
    "import numpy as np\n",
    "from numpy.linalg import norm"
   ]
  },
  {
   "cell_type": "markdown",
   "id": "c66eaa1e-e108-4e6f-a0be-35ceeaa5f0bd",
   "metadata": {},
   "source": [
    "# <p style=\"background-color:lightgreen;font-family:newtimeroman;color:#662e2e;font-size:130%;text-align:center;border-radius:30px 30px;\">Задача 1</p>\n",
    "\n",
    "__1.__ Исследуйте на линейную зависимость:\n",
    "\n",
    "$$f_{1}(x)=e^{x}, f_{2}(x)=1, f_{3}(x)=x+1, f_{4}(x)=x-e^{x}.$$"
   ]
  },
  {
   "cell_type": "markdown",
   "id": "2ea0d98e",
   "metadata": {},
   "source": [
    "**Решение:**  "
   ]
  },
  {
   "cell_type": "markdown",
   "id": "b0294ff5-1820-487c-92fa-dae74e686d2c",
   "metadata": {},
   "source": [
    "$$f_{1}(x)=e^{x}, f_{2}(x)=1, f_{3}(x)=x+1, f_{4}(x)=x-e^{x}.$$  \n",
    "\n",
    "Из вектора $f_{4}(x)=x-e^{x}$ выразим $x$: $x = f_{4}(x) + e^{x}$  \n",
    "\n",
    "Тогда  \n",
    "$$f_{3}(x)=x+1 = f_{4}(x) + e^{x} + 1 = f_{4}(x) + f_{1}(x) + f_{2}(x)$$  \n",
    "\n",
    "То есть вектор $f_{3}(x)$ - линейная комбинация векторов $f_{1}(x)$, $f_{2}(x)$ и $f_{4}(x)$.  \n",
    "Следовательно, векторы $f_{1}(x)$, $f_{2}(x)$, $f_{3}(x)$ и $f_{4}(x)$ линейно зависимые.\n"
   ]
  },
  {
   "cell_type": "markdown",
   "id": "de4912a3-ae24-4874-a078-0b3fdc2ea43b",
   "metadata": {},
   "source": [
    "# <p style=\"background-color:lightgreen;font-family:newtimeroman;color:#662e2e;font-size:130%;text-align:center;border-radius:30px 30px;\">Задача 2</p>\n",
    "\n",
    "__2.__ Исследуйте на линейную зависимость:\n",
    "$$f_{1}(x)=2, f_{2}(x)=x, f_{3}(x)=x^{2}, f_{4}(x)=(x+1)^{2}$$"
   ]
  },
  {
   "cell_type": "markdown",
   "id": "bcf3755d-f827-484f-b455-79fbd204b912",
   "metadata": {},
   "source": [
    "**Решение:**  "
   ]
  },
  {
   "cell_type": "markdown",
   "id": "12a775b2-637f-4c61-bb8c-fc24c35e4d43",
   "metadata": {},
   "source": [
    "$$f_{1}(x)=2, f_{2}(x)=x, f_{3}(x)=x^{2}, f_{4}(x)=(x+1)^{2}$$  \n",
    "$$f_{4}(x)=(x+1)^{2} = x^{2} + 2x + 1$$  \n",
    "Тогда  \n",
    "$$f_{4}(x)=f_{3}(x) + 2f_{2}(x) + 0.5f_{1}(x)$$   \n",
    "То есть вектор $f_{4}(x)$ - линейная комбинация векторов $f_{1}(x)$, $f_{2}(x)$ и $f_{3}(x)$.  \n",
    "Следовательно, векторы $f_{1}(x)$, $f_{2}(x)$, $f_{3}(x)$ и $f_{4}(x)$ линейно зависимые."
   ]
  },
  {
   "cell_type": "markdown",
   "id": "2f5b0a08-2d16-409e-961f-d160267b35f6",
   "metadata": {},
   "source": [
    "# <p style=\"background-color:lightgreen;font-family:newtimeroman;color:#662e2e;font-size:130%;text-align:center;border-radius:30px 30px;\">Задача 3</p>\n",
    "\n",
    "__3.__ Найдите координаты вектора $x = (2, 3, 5)\\in \\mathbb{R}^{3}$ в базисе $b_{1}=(0, 0, 10)$, $b_{2}=(2, 0, 0)$, $b_{3}=(0, 1, 0)$."
   ]
  },
  {
   "cell_type": "markdown",
   "id": "271efec1-8914-4435-9f68-3cc4bb676248",
   "metadata": {},
   "source": [
    "**Решение:**  "
   ]
  },
  {
   "cell_type": "markdown",
   "id": "f7e5fdaf-adeb-4535-8547-04614fdf65d7",
   "metadata": {},
   "source": [
    "Стандартный базис в $\\mathbb{R}^{3}$:  \n",
    "$$x = \\xi_{1}b_{1} + \\xi_{2}b_{2} + \\xi_{3}b_{3}$$  \n",
    "Тогда  \n",
    "$$x = \\xi_{1}b_{1} + \\xi_{2}b_{2} + \\xi_{3}b_{3} = \\xi_{2}b_{2} + \\xi_{3}b_{3} + \\xi_{1}b_{1} = \\xi_{2} \\cdot (2, 0, 0) + \\xi_{3} \\cdot (0, 1, 0) + \\xi_{1} \\cdot (0, 0, 10) = 1 \\cdot (2, 0, 0) + 3 \\cdot (0, 1, 0) + 0.5 \\cdot (0, 0, 10) = 1b_{2} + 3b_{3} + 0.5b_{1}$$  \n",
    "Ответ:  $x = (0.5, 1, 3)$"
   ]
  },
  {
   "cell_type": "markdown",
   "id": "b4c33ddb-a97d-4edb-a274-b31be9450089",
   "metadata": {},
   "source": [
    "# <p style=\"background-color:lightgreen;font-family:newtimeroman;color:#662e2e;font-size:130%;text-align:center;border-radius:30px 30px;\">Задача 4</p>\n",
    "\n",
    "__4.__ Найдите координаты вектора $3x^{2}-2x+2\\in\\mathbb{R}^{3}[x]$:\n",
    "\n",
    "а) в базисе $1$, $x$, $x^{2}$;\n",
    "\n",
    "б) в базисе $x^{2}$, $x-1$, $1$."
   ]
  },
  {
   "cell_type": "markdown",
   "id": "d9ae8aa8-b040-455d-a06f-e552ea61a544",
   "metadata": {},
   "source": [
    "**Решение:**  "
   ]
  },
  {
   "cell_type": "markdown",
   "id": "130ccf19-f5ca-4661-99bc-b3308b9c4abe",
   "metadata": {},
   "source": [
    "а) в базисе $1$, $x$, $x^{2}$  \n",
    "$$y = 3x^{2}-2x+2 = \\xi_{1}a_{1} + \\xi_{2}a_{2} + \\xi_{3}a_{3}$$\n",
    "$$\\xi_{1}a_{1} =  \\xi_{1} \\cdot (0, 0, 1) = 2$$  \n",
    "$$\\xi_{2}a_{2} =  \\xi_{2} \\cdot (0, 1, 0) = -2x$$  \n",
    "$$\\xi_{3}a_{3} =  \\xi_{3} \\cdot (1, 0, 0) = 3x^{2}$$  \n",
    "Ответ: $(3, -2, 2)$"
   ]
  },
  {
   "cell_type": "markdown",
   "id": "ed770f8a-0ded-417c-8580-50cc78e72205",
   "metadata": {},
   "source": [
    "б) в базисе $x^{2}$, $x-1$, $1$  \n",
    "$a_{1} = (1, 0, 0) = i$  \n",
    "$a_{2} = (0, 1, -1) = j - k$  \n",
    "$a_{3} = (0, 0, 1) = k$  \n",
    "$a_{4} = xa_{1} + ya_{2}+ za_{3}$  \n",
    "3i - 2j + 2k = ix +jy - ky +kz  \n",
    "3i = ix          x = 3  \n",
    "-2j = jy     <=> y = -2  \n",
    "2k = kz-ky       2 = z + 2  \n",
    "Тогда \n",
    "x = 3,  \n",
    "y = -2,  \n",
    "z = 0  \n",
    "Ответ: $(3, -2, 0)$"
   ]
  },
  {
   "cell_type": "markdown",
   "id": "a91c97ce-c7d9-459c-8896-1f5620309365",
   "metadata": {},
   "source": [
    "# <p style=\"background-color:lightgreen;font-family:newtimeroman;color:#662e2e;font-size:130%;text-align:center;border-radius:30px 30px;\">Задача 5</p>\n",
    "\n",
    "_5._ Установите, считается ли линейным подпространством:\n",
    "\n",
    "а) совокупность всех векторов трёхмерного пространства, у которых по крайней мере одна из первых двух координат равна нулю;\n",
    "    \n",
    "б) все векторы, считающиеся линейными комбинациями данных векторов $\\{u_{1}, u_{2} \\ldots, u_{n}\\}$."
   ]
  },
  {
   "cell_type": "markdown",
   "id": "1044ee47-7b97-4b5a-b1eb-1fb461ed992a",
   "metadata": {},
   "source": [
    "**Решение:**  "
   ]
  },
  {
   "cell_type": "markdown",
   "id": "79fc8d48-c4c2-4fb9-b51d-864dc633e3ef",
   "metadata": {},
   "source": [
    "а) совокупность всех векторов трёхмерного пространства, у которых по крайней мере одна из первых двух координат равна нулю;  \n",
    "Нет, так как не выполняется условие  \n",
    "$$(a,0,c)+(0,b, d)=(a,b,c+d)$$ "
   ]
  },
  {
   "cell_type": "markdown",
   "id": "30fb611b-8c41-41ac-a45e-9bb3afff093e",
   "metadata": {},
   "source": [
    "б) все векторы, считающиеся линейными комбинациями данных векторов $\\{u_{1}, u_{2} \\ldots, u_{n}\\}$  \n",
    "Выполняется  \n",
    "Любой вектор множества можно представить в виде $$\\sum_{t=1}^{n}\\lambda_{t}u_{t}$$\n",
    "Сумма двух векторов: $$\\sum_{t=1}^{n}\\alpha_{t}u_{t} + \\sum_{t=1}^{n}\\beta_{t}u_{t} = \\sum_{t=1}^{n}(\\alpha_{t} + \\beta_{t})u_{t} =\\sum_{t=1}^{n}\\lambda_{t}u_{t} $$\n",
    "Произведение вектора на число: $$\\alpha \\cdot \\sum_{t=1}^{n}\\lambda_{t}u_{t} = \\sum_{t=1}^{n}\\alpha \\cdot \\lambda_{t}u_{t} = \\sum_{t=1}^{n}\\beta_{t}u_{t}$$\n",
    "\n",
    "Т.к. полученные вектора принадлежат указанному множеству, поэтому указанное множество векторов является линейным подпространством."
   ]
  },
  {
   "cell_type": "markdown",
   "id": "f0bddda0-39f1-47e0-bebf-4ddf5bb349d9",
   "metadata": {},
   "source": [
    "## Линейное пространство. Основные понятия. Часть 2"
   ]
  },
  {
   "cell_type": "markdown",
   "id": "2a5890fd-e6da-4f97-92da-2f7e54383892",
   "metadata": {
    "tags": []
   },
   "source": [
    "# <p style=\"background-color:lightgreen;font-family:newtimeroman;color:#662e2e;font-size:130%;text-align:center;border-radius:30px 30px;\">Задача 1</p>\n",
    "\n",
    "__1.__ Найдите скалярное произведение векторов $x, y \\in \\mathbb{R}$:<br>\n",
    "а) $x=(0,-3, 6),~y=(-4, 7, 9);$<br>\n",
    "б) $x=(7, -4, 0, 1),~y=(-3, 1, 11, 2).$"
   ]
  },
  {
   "cell_type": "markdown",
   "id": "0e42e9ac-6744-4c29-81d4-2e9866388860",
   "metadata": {},
   "source": [
    "**Решение:**  "
   ]
  },
  {
   "cell_type": "code",
   "execution_count": 2,
   "id": "3982e766-d1f6-4846-9d58-87a243a71367",
   "metadata": {},
   "outputs": [
    {
     "name": "stdout",
     "output_type": "stream",
     "text": [
      "x * y =  33\n"
     ]
    }
   ],
   "source": [
    "x = np.array([0, -3, 6])\n",
    "y = np.array([-4, 7, 9])\n",
    "print('x * y = ', np.dot(x, y))"
   ]
  },
  {
   "cell_type": "code",
   "execution_count": 3,
   "id": "c916ab0f-4d05-4fa2-bab2-60b1e2d79059",
   "metadata": {},
   "outputs": [
    {
     "name": "stdout",
     "output_type": "stream",
     "text": [
      "x * y =  -23\n"
     ]
    }
   ],
   "source": [
    "x = np.array([7, -4, 0, 1])\n",
    "y = np.array([-3, 1, 11, 2])\n",
    "print('x * y = ', np.dot(x, y))"
   ]
  },
  {
   "cell_type": "markdown",
   "id": "912a0929-02a1-464b-801f-d77a92d31a21",
   "metadata": {},
   "source": [
    "# <p style=\"background-color:lightgreen;font-family:newtimeroman;color:#662e2e;font-size:130%;text-align:center;border-radius:30px 30px;\">Задача 2</p>\n",
    "\n",
    "__2.__ Найдите нормы векторов $(4, 2, 4)$ и $(12, 3, 4)$ и угол между ними."
   ]
  },
  {
   "cell_type": "markdown",
   "id": "dc547d10-f64e-4daf-aaaf-713839bd28f6",
   "metadata": {},
   "source": [
    "**Решение:**  "
   ]
  },
  {
   "cell_type": "code",
   "execution_count": 4,
   "id": "d07899a2-ee0d-47d9-8501-0eecf5084433",
   "metadata": {},
   "outputs": [
    {
     "name": "stdout",
     "output_type": "stream",
     "text": [
      "l1 Манхэттенская норма вектора a: 10.0\n",
      "l2 Евклидова норма вектора а: 6.0\n",
      "========================================\n",
      "l1 Манхэттенская норма вектора b: 19.0\n",
      "l2 Евклидова норма вектора b: 13.0\n",
      "========================================\n",
      "Косинус угла между векторами: 0.90\n",
      "Угол: 0.46°\n"
     ]
    }
   ],
   "source": [
    "a = np.array([4, 2, 4])\n",
    "b = np.array([12, 3, 4])\n",
    "\n",
    "print(f'l1 Манхэттенская норма вектора a: {norm(a, ord=1)}')\n",
    "print(f'l2 Евклидова норма вектора а: {norm(a, ord=2)}')\n",
    "print('=' * 40)\n",
    "\n",
    "print(f'l1 Манхэттенская норма вектора b: {norm(b, ord=1)}')\n",
    "print(f'l2 Евклидова норма вектора b: {norm(b, ord=2)}')\n",
    "print('=' * 40)\n",
    "\n",
    "cos_phi = np.dot(a, b) / norm(a, ord=2) / norm(b, ord=2)\n",
    "print(f'Косинус угла между векторами: {cos_phi:.2f}')\n",
    "print(f'Угол: {np.arccos(cos_phi):.2f}\\xb0')\n"
   ]
  },
  {
   "cell_type": "markdown",
   "id": "88b2b626-5158-4f0c-b40a-3a966454bd6c",
   "metadata": {
    "tags": []
   },
   "source": [
    "# <p style=\"background-color:lightgreen;font-family:newtimeroman;color:#662e2e;font-size:130%;text-align:center;border-radius:30px 30px;\">Задача 3</p>\n",
    "\n",
    "__3.__ Определите, будет ли линейное пространство евклидовым, если за скалярное произведение принять:<br>\n",
    "а) произведение длин векторов;<br>\n",
    "б) утроенное обычное скалярное произведение векторов?<br>"
   ]
  },
  {
   "cell_type": "markdown",
   "id": "3d6af0ab-f731-4da4-85a9-1c859135fe0b",
   "metadata": {},
   "source": [
    "**Решение:**  "
   ]
  },
  {
   "cell_type": "markdown",
   "id": "b28c82ef-2292-43b7-b072-ea6dac3ffb77",
   "metadata": {},
   "source": [
    "Линейное пространство над полем вещественных чисел называется _евклидовым пространством_, если на нём введено правило, согласно которому каждой упорядоченной паре векторов $x$ и $y$ поставлено в соответствие вещественное число, называемое _скалярным произведением_ и обозначаемое символом $(x, y)$.\n",
    "\n",
    "Соответственно,   \n",
    "а) Нет, т.к. $(x_1+x_2, y) \\ne (x_1,y) + (x_2, y)$  \n",
    "б) Да, т.к. $(\\lambda x, y)=\\lambda(x, y).$"
   ]
  },
  {
   "cell_type": "markdown",
   "id": "d493cde2-2d89-4de4-bfbd-c5efc51b20fe",
   "metadata": {},
   "source": [
    "# <p style=\"background-color:lightgreen;font-family:newtimeroman;color:#662e2e;font-size:130%;text-align:center;border-radius:30px 30px;\">Задача 4</p>\n",
    "\n",
    "__4.__ Выясните, какие из нижеперечисленных векторов образуют ортонормированный базис в линейном пространстве $\\mathbb{R}^{3}$:<br>\n",
    "а) $(1,0,0),(0,0,1);$ <br>\n",
    "б) $(1/\\sqrt{2},-1/\\sqrt{2},0),(1/\\sqrt{2},1/\\sqrt{2},0), (0,0,1);$<br>\n",
    "в) $(1/2, -1/2, 0), (0, 1/2, 1/2), (0,0,1);$<br>\n",
    "г) $(1,0,0),(0,1,0),(0,0,1)?$ "
   ]
  },
  {
   "cell_type": "markdown",
   "id": "f597b440-82e3-4a10-a965-02c46e4029ac",
   "metadata": {},
   "source": [
    "**Решение:**  "
   ]
  },
  {
   "cell_type": "markdown",
   "id": "fc0a8f96-afbf-4121-8263-f6408e6b905d",
   "metadata": {},
   "source": [
    "Ортонормированный базис ортогонален ($(x,y)=0$) и состоит из векторов единичной длины"
   ]
  },
  {
   "cell_type": "markdown",
   "id": "2d05ac54-b026-43ca-84fe-15c078e41fb6",
   "metadata": {},
   "source": [
    "а) $(1,0,0),(0,0,1)$  "
   ]
  },
  {
   "cell_type": "code",
   "execution_count": 5,
   "id": "066a8f92-74b1-4859-9899-70bdf9ab0305",
   "metadata": {},
   "outputs": [
    {
     "name": "stdout",
     "output_type": "stream",
     "text": [
      "Длина веркора а |a| = 1.0\n",
      "Длина вектора b |b| = 1.0\n",
      "Скалярное произведение векторов a и b равно: 0\n"
     ]
    }
   ],
   "source": [
    "a = np.array([1, 0, 0])\n",
    "b = np.array([0, 0, 1])\n",
    "print(f'Длина веркора а |a| = {norm(a)}')\n",
    "print(f'Длина вектора b |b| = {norm(b)}')\n",
    "print(f'Скалярное произведение векторов a и b равно: {np.dot(a, b)}')"
   ]
  },
  {
   "cell_type": "markdown",
   "id": "5607e209-1345-420e-949b-2b5772ac0137",
   "metadata": {},
   "source": [
    "Но, т.к. поусловию задано линейном пространстве $\\mathbb{R}^{3}$, то векторов должно быть 3.\n",
    "Следовательно, вектора $(1,0,0),(0,0,1)$ - не образуют ортонормированный базис в линейном пространстве $\\mathbb{R}^{3}$"
   ]
  },
  {
   "cell_type": "markdown",
   "id": "08adb73f-b8a5-4bb0-8252-c427d16ebe97",
   "metadata": {},
   "source": [
    "б) $(1/\\sqrt{2},-1/\\sqrt{2},0),(1/\\sqrt{2},1/\\sqrt{2},0), (0,0,1)$<br>"
   ]
  },
  {
   "cell_type": "code",
   "execution_count": 6,
   "id": "abaf9a63-ae3c-414e-8251-a0cb8efc795b",
   "metadata": {},
   "outputs": [
    {
     "name": "stdout",
     "output_type": "stream",
     "text": [
      "Длина веркора c |c| = 1.00\n",
      "Длина веркора d |d| = 1.00\n",
      "Длина веркора e |e| = 1.00\n",
      "Скалярное произведение векторов c и d равно: 0.0\n",
      "Скалярное произведение векторов c и e равно: 0.0\n",
      "Скалярное произведение векторов d и e равно: 0.0\n"
     ]
    }
   ],
   "source": [
    "c = np.array([(1/(2**0.5)), (-1/(2**0.5)), 0])\n",
    "d = np.array([(1/(2**0.5)), (1/(2**0.5)), 0])\n",
    "e = np.array([0, 0, 1])\n",
    "\n",
    "print(f'Длина веркора c |c| = {norm(c):.2f}')\n",
    "print(f'Длина веркора d |d| = {norm(d):.2f}')\n",
    "print(f'Длина веркора e |e| = {norm(e):.2f}')\n",
    "print(f'Скалярное произведение векторов c и d равно: {np.dot(c, d)}')\n",
    "print(f'Скалярное произведение векторов c и e равно: {np.dot(c, e)}')\n",
    "print(f'Скалярное произведение векторов d и e равно: {np.dot(d, e)}')"
   ]
  },
  {
   "cell_type": "markdown",
   "id": "1197e3d0-df64-4cd1-8724-d7bf9446b233",
   "metadata": {},
   "source": [
    "Следовательно, вектора $(1/\\sqrt{2},-1/\\sqrt{2},0),(1/\\sqrt{2},1/\\sqrt{2},0), (0,0,1)$ - образуют ортонормированный базис в линейном пространстве $\\mathbb{R}^{3}$"
   ]
  },
  {
   "cell_type": "markdown",
   "id": "5d5524ec-7a94-44a5-bd7e-351a6a84fd0a",
   "metadata": {},
   "source": [
    "в) $(1/2, -1/2, 0), (0, 1/2, 1/2), (0,0,1)$"
   ]
  },
  {
   "cell_type": "code",
   "execution_count": 7,
   "id": "e56111d3-1869-4b41-a9b3-1d69c3b90f56",
   "metadata": {},
   "outputs": [
    {
     "name": "stdout",
     "output_type": "stream",
     "text": [
      "Длина веркора f |f| = 0.71\n",
      "Длина веркора g |g| = 0.71\n",
      "Длина веркора h |h| = 1.00\n",
      "Скалярное произведение векторов f и g равно: -0.25\n",
      "Скалярное произведение векторов f и h равно: 0.0\n",
      "Скалярное произведение векторов g и h равно: 0.5\n"
     ]
    }
   ],
   "source": [
    "f = np.array([0.5, -0.5, 0])\n",
    "g = np.array([0, 0.5, 0.5])\n",
    "h = np.array([0, 0, 1])\n",
    "\n",
    "print(f'Длина веркора f |f| = {norm(f):.2f}')\n",
    "print(f'Длина веркора g |g| = {norm(g):.2f}')\n",
    "print(f'Длина веркора h |h| = {norm(h):.2f}')\n",
    "\n",
    "print(f'Скалярное произведение векторов f и g равно: {np.dot(f, g)}')\n",
    "print(f'Скалярное произведение векторов f и h равно: {np.dot(f, h)}')\n",
    "print(f'Скалярное произведение векторов g и h равно: {np.dot(g, h)}')"
   ]
  },
  {
   "cell_type": "markdown",
   "id": "b17b88f2-4b17-472c-bab5-fe5d6bca00f3",
   "metadata": {},
   "source": [
    "Следовательно, вектора $(1/2, -1/2, 0), (0, 1/2, 1/2), (0,0,1)$ - не образуют ортонормированный базис в линейном пространстве $\\mathbb{R}^{3}$"
   ]
  },
  {
   "cell_type": "markdown",
   "id": "f7424e83-0da5-4918-9fce-086ffeb1cc06",
   "metadata": {},
   "source": [
    "г) $(1,0,0),(0,1,0),(0,0,1)$ "
   ]
  },
  {
   "cell_type": "code",
   "execution_count": 8,
   "id": "53b70808-69fc-48ad-98cf-322d771afc2b",
   "metadata": {},
   "outputs": [
    {
     "name": "stdout",
     "output_type": "stream",
     "text": [
      "Длина веркора i |i| = 1.00\n",
      "Длина веркора j |j| = 1.00\n",
      "Длина веркора k |k| = 1.00\n",
      "Скалярное произведение векторов i и j равно: 0\n",
      "Скалярное произведение векторов i и k равно: 0\n",
      "Скалярное произведение векторов j и k равно: 0\n"
     ]
    }
   ],
   "source": [
    "i = np.array([1, 0, 0])\n",
    "j = np.array([0, 1, 0])\n",
    "k = np.array([0, 0, 1])\n",
    "\n",
    "print(f'Длина веркора i |i| = {norm(i):.2f}')\n",
    "print(f'Длина веркора j |j| = {norm(j):.2f}')\n",
    "print(f'Длина веркора k |k| = {norm(k):.2f}')\n",
    "\n",
    "print(f'Скалярное произведение векторов i и j равно: {np.dot(i, j)}')\n",
    "print(f'Скалярное произведение векторов i и k равно: {np.dot(i, k)}')\n",
    "print(f'Скалярное произведение векторов j и k равно: {np.dot(j, k)}')"
   ]
  },
  {
   "cell_type": "markdown",
   "id": "0f0a7c71-076b-4143-8ed1-a9d5a7f2bae8",
   "metadata": {},
   "source": [
    "Следовательно, вектора $(1,0,0),(0,1,0),(0,0,1)$ - образуют ортонормированный базис в линейном пространстве $\\mathbb{R}^{3}$"
   ]
  },
  {
   "cell_type": "code",
   "execution_count": null,
   "id": "0638e750-e57f-417a-a200-c756def84e1d",
   "metadata": {},
   "outputs": [],
   "source": []
  }
 ],
 "metadata": {
  "kernelspec": {
   "display_name": "Python 3 (ipykernel)",
   "language": "python",
   "name": "python3"
  },
  "language_info": {
   "codemirror_mode": {
    "name": "ipython",
    "version": 3
   },
   "file_extension": ".py",
   "mimetype": "text/x-python",
   "name": "python",
   "nbconvert_exporter": "python",
   "pygments_lexer": "ipython3",
   "version": "3.9.7"
  }
 },
 "nbformat": 4,
 "nbformat_minor": 5
}

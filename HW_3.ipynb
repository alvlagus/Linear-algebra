{
 "cells": [
  {
   "cell_type": "markdown",
   "id": "25b1f58c",
   "metadata": {},
   "source": [
    "<h1 align='center'>Линейная алгебра</h1>"
   ]
  },
  {
   "cell_type": "markdown",
   "id": "80b4ee62",
   "metadata": {},
   "source": [
    "<h1 align='center'>Домашнее задание № 3</h1>"
   ]
  },
  {
   "cell_type": "markdown",
   "id": "80680f47-3b5e-4d10-821a-69eea6637566",
   "metadata": {},
   "source": [
    "## Матрицы и матричные операции. Часть 1"
   ]
  },
  {
   "cell_type": "code",
   "execution_count": 1,
   "id": "3f5afd23-12eb-45b3-8ff6-3af48c861406",
   "metadata": {},
   "outputs": [],
   "source": [
    "import numpy as np"
   ]
  },
  {
   "cell_type": "markdown",
   "id": "c66eaa1e-e108-4e6f-a0be-35ceeaa5f0bd",
   "metadata": {},
   "source": [
    "# <p style=\"background-color:lightgreen;font-family:newtimeroman;color:#662e2e;font-size:130%;text-align:center;border-radius:30px 30px;\">Задача 1</p>\n",
    "\n",
    "__1.__ Найдите собственные векторы и собственные значения для линейного оператора, заданного матрицей:\n",
    "\n",
    "$$A=\\begin{pmatrix}\n",
    "-1 & -6\\\\ \n",
    "2 & 6\n",
    "\\end{pmatrix}.$$"
   ]
  },
  {
   "cell_type": "markdown",
   "id": "2ea0d98e",
   "metadata": {},
   "source": [
    "**Решение:**  "
   ]
  },
  {
   "cell_type": "code",
   "execution_count": 5,
   "id": "40647bb9-b475-4aeb-8bcb-11ee8e22eb96",
   "metadata": {},
   "outputs": [
    {
     "name": "stdout",
     "output_type": "stream",
     "text": [
      "Матрица А:\n",
      "[[-1 -6]\n",
      " [ 2  6]]\n",
      "Собственные векторы:\n",
      "[[-0.89442719  0.83205029]\n",
      " [ 0.4472136  -0.5547002 ]]\n",
      "Собственные значения:\n",
      "[2. 3.]\n"
     ]
    }
   ],
   "source": [
    "a = np.array([[-1, -6], [2, 6]])\n",
    "w, v = np.linalg.eig(a)\n",
    "\n",
    "print(f'Матрица А:\\n{a}')\n",
    "print(f'Собственные векторы:\\n{v}')\n",
    "print(f'Собственные значения:\\n{w}')"
   ]
  },
  {
   "cell_type": "markdown",
   "id": "de4912a3-ae24-4874-a078-0b3fdc2ea43b",
   "metadata": {},
   "source": [
    "# <p style=\"background-color:lightgreen;font-family:newtimeroman;color:#662e2e;font-size:130%;text-align:center;border-radius:30px 30px;\">Задача 2</p>\n",
    "\n",
    "__2.__ Дан оператор поворота на 180 градусов, задаваемый матрицей:\n",
    "\n",
    "$$A=\\begin{pmatrix}\n",
    "-1 & 0\\\\ \n",
    "0 & -1\n",
    "\\end{pmatrix}.$$\n",
    "\n",
    "Покажите, что __любой__ вектор считается для него собственным."
   ]
  },
  {
   "cell_type": "markdown",
   "id": "bcf3755d-f827-484f-b455-79fbd204b912",
   "metadata": {},
   "source": [
    "**Решение:**  "
   ]
  },
  {
   "cell_type": "markdown",
   "id": "0b8142c5-521a-47d1-a9cd-9346877ed0f6",
   "metadata": {},
   "source": [
    "Возьмем любой вектор  $\\begin{pmatrix}x_{1}\\\\ x_{2}\\end{pmatrix}$:  \n",
    "$$A=\\begin{pmatrix}\n",
    "-1 & 0\\\\ \n",
    "0 & -1\n",
    "\\end{pmatrix}\\begin{pmatrix}x_{1}\\\\ x_{2}\\end{pmatrix} = \\lambda\\begin{pmatrix}x_{1}\\\\ x_{2}\\end{pmatrix}$$   \n",
    "$$\\begin{cases}\n",
    "-x_{1} + 0 = x_{1} \\cdot \\lambda \\\\\n",
    "0 + -x_{2} = x_{2} \\cdot \\lambda\n",
    "\\end{cases}\n",
    "\\Rightarrow\n",
    "\\begin{cases}\n",
    "\\lambda = -1 \\\\\n",
    "\\lambda = -1\n",
    "\\end{cases}\n",
    "\\Rightarrow\n",
    "\\lambda = -1\n",
    "$$  \n",
    "Следовательно, система уравнений не зависит от координат вектора $\\begin{pmatrix}x_{1}\\\\ x_{2}\\end{pmatrix}$.  \n",
    "Значит любой вектор для данного определителя будет собственным."
   ]
  },
  {
   "cell_type": "markdown",
   "id": "2f5b0a08-2d16-409e-961f-d160267b35f6",
   "metadata": {},
   "source": [
    "# <p style=\"background-color:lightgreen;font-family:newtimeroman;color:#662e2e;font-size:130%;text-align:center;border-radius:30px 30px;\">Задача 3</p>\n",
    "\n",
    "__3.__ Пусть линейный оператор задан матрицей:\n",
    "\n",
    "$$A=\\begin{pmatrix}\n",
    "1 & 1\\\\ \n",
    "-1 & 3\n",
    "\\end{pmatrix}.$$\n",
    "\n",
    "Установите, считается ли вектор $x=(1,1)$ собственным вектором этого линейного оператора."
   ]
  },
  {
   "cell_type": "markdown",
   "id": "271efec1-8914-4435-9f68-3cc4bb676248",
   "metadata": {},
   "source": [
    "**Решение:**  "
   ]
  },
  {
   "cell_type": "markdown",
   "id": "b2b7b0d4-4f03-410a-896a-aabe6b6cc280",
   "metadata": {},
   "source": [
    "Предположим, что вектор $x$ считается собственным вектором заданного линейного оператора, тогда должно существовать некоторое вещественное число $\\lambda$, при котором:  \n",
    "\n",
    "$$\\begin{pmatrix}\n",
    "1 & 1 \\\\\n",
    "-1 & 3\n",
    "\\end{pmatrix} \\begin{pmatrix}\n",
    "1 \\\\\n",
    "1\n",
    "\\end{pmatrix} = \\lambda \\begin{pmatrix}\n",
    "1 \\\\\n",
    "1\n",
    "\\end{pmatrix}$$  \n",
    "\n",
    "Из этого следует:  \n",
    "$$\\begin{cases}\n",
    "1 + 1 = 1 \\cdot \\lambda \\\\\n",
    "-1 + 3 = 1 \\cdot \\lambda\n",
    "\\end{cases}\n",
    "\\Rightarrow\n",
    "\\begin{cases}\n",
    "\\lambda = 2 \\\\\n",
    "\\lambda = 2\n",
    "\\end{cases}\n",
    "\\Rightarrow\n",
    "\\lambda = 2\n",
    "$$  \n",
    "Таким образом, вектор $x=(1,1)$ считается собственным вектором линейного оператора, заданного матрицей $A$, и его собственное значние составляет $\\lambda=2$."
   ]
  },
  {
   "cell_type": "markdown",
   "id": "b4c33ddb-a97d-4edb-a274-b31be9450089",
   "metadata": {},
   "source": [
    "# <p style=\"background-color:lightgreen;font-family:newtimeroman;color:#662e2e;font-size:130%;text-align:center;border-radius:30px 30px;\">Задача 4</p>\n",
    "\n",
    "**4.** Пусть линейный оператор задан матрицей:\n",
    "\n",
    "$$A=\\begin{pmatrix} 0 & 3 & 0\\\\ 3 & 0 & 0\\\\ 0 & 0 & 3 \\end{pmatrix}.$$\n",
    "\n",
    "Установите, считается ли вектор $x=(3, -3, -4)$ собственным вектором этого линейного оператора."
   ]
  },
  {
   "cell_type": "markdown",
   "id": "d9ae8aa8-b040-455d-a06f-e552ea61a544",
   "metadata": {},
   "source": [
    "**Решение:**  "
   ]
  },
  {
   "cell_type": "markdown",
   "id": "77bf7351-63d5-4cd6-a80a-94281aebfb33",
   "metadata": {},
   "source": [
    "Предположим, что вектор $x$ считается собственным вектором заданного линейного оператора, тогда должно существовать некоторое вещественное число $\\lambda$, при котором:  \n",
    "\n",
    "$$\\begin{pmatrix} 0 & 3 & 0\\\\ 3 & 0 & 0\\\\ 0 & 0 & 3 \\end{pmatrix} \\begin{pmatrix}\n",
    "3\\\\ -3\\\\ -4 \\end{pmatrix} = \\lambda \\begin{pmatrix} 3\\\\ -3\\\\ -4 \\end{pmatrix}$$  \n",
    "\n",
    "Из этого следует:  \n",
    "$$\\begin{cases}\n",
    "0 \\cdot 3 + 3 \\cdot (-3) + 0 \\cdot -4 = 3 \\cdot \\lambda \\\\\n",
    "3 \\cdot 3 + 0 \\cdot (-3) + 0 \\cdot -4 = -3 \\cdot \\lambda \\\\\n",
    "0 \\cdot 3 + 0 \\cdot (-3) + 3 \\cdot -4 = -4 \\cdot \\lambda \\\\\n",
    "\\end{cases}\n",
    "\\Rightarrow\n",
    "\\begin{cases}\n",
    "\\lambda = -3 \\\\\n",
    "\\lambda = -3 \\\\\n",
    "\\lambda = 3\n",
    "\\end{cases}\n",
    "$$  \n",
    "Такая система не имеет смысла, следовательно, вектор $x=(3, -3, -4)$ не считается собственным вектором линейного оператора, заданного матрицей $A$."
   ]
  },
  {
   "cell_type": "code",
   "execution_count": null,
   "id": "fe4883e2-fc3b-4bc0-94fe-8b644435ba94",
   "metadata": {},
   "outputs": [],
   "source": []
  }
 ],
 "metadata": {
  "kernelspec": {
   "display_name": "Python 3 (ipykernel)",
   "language": "python",
   "name": "python3"
  },
  "language_info": {
   "codemirror_mode": {
    "name": "ipython",
    "version": 3
   },
   "file_extension": ".py",
   "mimetype": "text/x-python",
   "name": "python",
   "nbconvert_exporter": "python",
   "pygments_lexer": "ipython3",
   "version": "3.9.7"
  }
 },
 "nbformat": 4,
 "nbformat_minor": 5
}
